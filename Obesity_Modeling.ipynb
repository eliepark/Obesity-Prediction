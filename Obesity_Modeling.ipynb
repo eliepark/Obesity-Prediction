{
 "cells": [
  {
   "cell_type": "markdown",
   "id": "e92a2c03",
   "metadata": {
    "tags": []
   },
   "source": [
    "# Modeling"
   ]
  },
  {
   "cell_type": "code",
   "execution_count": 1,
   "id": "eb822130",
   "metadata": {},
   "outputs": [],
   "source": [
    "import pandas as pd\n",
    "import numpy as np\n",
    "import matplotlib.pyplot as plt\n",
    "from sklearn.model_selection import train_test_split, GridSearchCV\n",
    "from sklearn.ensemble import RandomForestClassifier\n",
    "from sklearn.linear_model import LogisticRegression\n",
    "from xgboost import XGBClassifier\n",
    "from sklearn.preprocessing import MinMaxScaler\n",
    "from sklearn.metrics import precision_recall_curve, classification_report, confusion_matrix, ConfusionMatrixDisplay, roc_curve, \\\n",
    "auc, f1_score, fbeta_score"
   ]
  },
  {
   "cell_type": "code",
   "execution_count": 2,
   "id": "cdd57bea",
   "metadata": {},
   "outputs": [
    {
     "data": {
      "text/html": [
       "<div>\n",
       "<style scoped>\n",
       "    .dataframe tbody tr th:only-of-type {\n",
       "        vertical-align: middle;\n",
       "    }\n",
       "\n",
       "    .dataframe tbody tr th {\n",
       "        vertical-align: top;\n",
       "    }\n",
       "\n",
       "    .dataframe thead th {\n",
       "        text-align: right;\n",
       "    }\n",
       "</style>\n",
       "<table border=\"1\" class=\"dataframe\">\n",
       "  <thead>\n",
       "    <tr style=\"text-align: right;\">\n",
       "      <th></th>\n",
       "      <th>Gender</th>\n",
       "      <th>Age</th>\n",
       "      <th>Height</th>\n",
       "      <th>Weight</th>\n",
       "      <th>fam_hist</th>\n",
       "      <th>high_cal_foods</th>\n",
       "      <th>veg</th>\n",
       "      <th>num_main_meals</th>\n",
       "      <th>food_between_meals</th>\n",
       "      <th>nicotine</th>\n",
       "      <th>...</th>\n",
       "      <th>physical_activity</th>\n",
       "      <th>time_using_tech_devices</th>\n",
       "      <th>alcohol</th>\n",
       "      <th>transportation</th>\n",
       "      <th>obesity_lvl</th>\n",
       "      <th>BMI</th>\n",
       "      <th>age_group</th>\n",
       "      <th>new_obesity_4lvls</th>\n",
       "      <th>obese</th>\n",
       "      <th>new_obesity_7lvls</th>\n",
       "    </tr>\n",
       "  </thead>\n",
       "  <tbody>\n",
       "    <tr>\n",
       "      <th>0</th>\n",
       "      <td>0.0</td>\n",
       "      <td>21.0</td>\n",
       "      <td>1.62</td>\n",
       "      <td>64.0</td>\n",
       "      <td>1.0</td>\n",
       "      <td>0.0</td>\n",
       "      <td>2.0</td>\n",
       "      <td>3.0</td>\n",
       "      <td>1.0</td>\n",
       "      <td>0.0</td>\n",
       "      <td>...</td>\n",
       "      <td>0.0</td>\n",
       "      <td>1.0</td>\n",
       "      <td>0.0</td>\n",
       "      <td>1.0</td>\n",
       "      <td>Normal_Weight</td>\n",
       "      <td>24.387</td>\n",
       "      <td>1.0</td>\n",
       "      <td>1.0</td>\n",
       "      <td>0.0</td>\n",
       "      <td>1.0</td>\n",
       "    </tr>\n",
       "    <tr>\n",
       "      <th>1</th>\n",
       "      <td>0.0</td>\n",
       "      <td>21.0</td>\n",
       "      <td>1.52</td>\n",
       "      <td>56.0</td>\n",
       "      <td>1.0</td>\n",
       "      <td>0.0</td>\n",
       "      <td>3.0</td>\n",
       "      <td>3.0</td>\n",
       "      <td>1.0</td>\n",
       "      <td>1.0</td>\n",
       "      <td>...</td>\n",
       "      <td>3.0</td>\n",
       "      <td>0.0</td>\n",
       "      <td>1.0</td>\n",
       "      <td>1.0</td>\n",
       "      <td>Normal_Weight</td>\n",
       "      <td>24.238</td>\n",
       "      <td>1.0</td>\n",
       "      <td>1.0</td>\n",
       "      <td>0.0</td>\n",
       "      <td>1.0</td>\n",
       "    </tr>\n",
       "    <tr>\n",
       "      <th>2</th>\n",
       "      <td>1.0</td>\n",
       "      <td>23.0</td>\n",
       "      <td>1.80</td>\n",
       "      <td>77.0</td>\n",
       "      <td>1.0</td>\n",
       "      <td>0.0</td>\n",
       "      <td>2.0</td>\n",
       "      <td>3.0</td>\n",
       "      <td>1.0</td>\n",
       "      <td>0.0</td>\n",
       "      <td>...</td>\n",
       "      <td>2.0</td>\n",
       "      <td>1.0</td>\n",
       "      <td>2.0</td>\n",
       "      <td>1.0</td>\n",
       "      <td>Normal_Weight</td>\n",
       "      <td>23.765</td>\n",
       "      <td>2.0</td>\n",
       "      <td>1.0</td>\n",
       "      <td>0.0</td>\n",
       "      <td>1.0</td>\n",
       "    </tr>\n",
       "    <tr>\n",
       "      <th>3</th>\n",
       "      <td>1.0</td>\n",
       "      <td>27.0</td>\n",
       "      <td>1.80</td>\n",
       "      <td>87.0</td>\n",
       "      <td>0.0</td>\n",
       "      <td>0.0</td>\n",
       "      <td>3.0</td>\n",
       "      <td>3.0</td>\n",
       "      <td>1.0</td>\n",
       "      <td>0.0</td>\n",
       "      <td>...</td>\n",
       "      <td>2.0</td>\n",
       "      <td>0.0</td>\n",
       "      <td>2.0</td>\n",
       "      <td>2.0</td>\n",
       "      <td>Overweight_Level_I</td>\n",
       "      <td>26.852</td>\n",
       "      <td>3.0</td>\n",
       "      <td>2.0</td>\n",
       "      <td>1.0</td>\n",
       "      <td>2.0</td>\n",
       "    </tr>\n",
       "    <tr>\n",
       "      <th>4</th>\n",
       "      <td>1.0</td>\n",
       "      <td>22.0</td>\n",
       "      <td>1.78</td>\n",
       "      <td>89.8</td>\n",
       "      <td>0.0</td>\n",
       "      <td>0.0</td>\n",
       "      <td>2.0</td>\n",
       "      <td>1.0</td>\n",
       "      <td>1.0</td>\n",
       "      <td>0.0</td>\n",
       "      <td>...</td>\n",
       "      <td>0.0</td>\n",
       "      <td>0.0</td>\n",
       "      <td>1.0</td>\n",
       "      <td>1.0</td>\n",
       "      <td>Overweight_Level_II</td>\n",
       "      <td>28.342</td>\n",
       "      <td>2.0</td>\n",
       "      <td>2.0</td>\n",
       "      <td>1.0</td>\n",
       "      <td>3.0</td>\n",
       "    </tr>\n",
       "    <tr>\n",
       "      <th>...</th>\n",
       "      <td>...</td>\n",
       "      <td>...</td>\n",
       "      <td>...</td>\n",
       "      <td>...</td>\n",
       "      <td>...</td>\n",
       "      <td>...</td>\n",
       "      <td>...</td>\n",
       "      <td>...</td>\n",
       "      <td>...</td>\n",
       "      <td>...</td>\n",
       "      <td>...</td>\n",
       "      <td>...</td>\n",
       "      <td>...</td>\n",
       "      <td>...</td>\n",
       "      <td>...</td>\n",
       "      <td>...</td>\n",
       "      <td>...</td>\n",
       "      <td>...</td>\n",
       "      <td>...</td>\n",
       "      <td>...</td>\n",
       "      <td>...</td>\n",
       "    </tr>\n",
       "    <tr>\n",
       "      <th>491</th>\n",
       "      <td>1.0</td>\n",
       "      <td>25.0</td>\n",
       "      <td>1.66</td>\n",
       "      <td>68.0</td>\n",
       "      <td>0.0</td>\n",
       "      <td>1.0</td>\n",
       "      <td>2.0</td>\n",
       "      <td>3.0</td>\n",
       "      <td>1.0</td>\n",
       "      <td>1.0</td>\n",
       "      <td>...</td>\n",
       "      <td>1.0</td>\n",
       "      <td>1.0</td>\n",
       "      <td>1.0</td>\n",
       "      <td>1.0</td>\n",
       "      <td>Normal_Weight</td>\n",
       "      <td>24.677</td>\n",
       "      <td>3.0</td>\n",
       "      <td>1.0</td>\n",
       "      <td>0.0</td>\n",
       "      <td>1.0</td>\n",
       "    </tr>\n",
       "    <tr>\n",
       "      <th>492</th>\n",
       "      <td>1.0</td>\n",
       "      <td>45.0</td>\n",
       "      <td>1.70</td>\n",
       "      <td>86.0</td>\n",
       "      <td>0.0</td>\n",
       "      <td>1.0</td>\n",
       "      <td>3.0</td>\n",
       "      <td>3.0</td>\n",
       "      <td>2.0</td>\n",
       "      <td>0.0</td>\n",
       "      <td>...</td>\n",
       "      <td>0.0</td>\n",
       "      <td>0.0</td>\n",
       "      <td>0.0</td>\n",
       "      <td>0.0</td>\n",
       "      <td>Overweight_Level_II</td>\n",
       "      <td>29.758</td>\n",
       "      <td>3.0</td>\n",
       "      <td>2.0</td>\n",
       "      <td>1.0</td>\n",
       "      <td>3.0</td>\n",
       "    </tr>\n",
       "    <tr>\n",
       "      <th>494</th>\n",
       "      <td>0.0</td>\n",
       "      <td>18.0</td>\n",
       "      <td>1.67</td>\n",
       "      <td>66.0</td>\n",
       "      <td>0.0</td>\n",
       "      <td>1.0</td>\n",
       "      <td>3.0</td>\n",
       "      <td>3.0</td>\n",
       "      <td>1.0</td>\n",
       "      <td>0.0</td>\n",
       "      <td>...</td>\n",
       "      <td>0.0</td>\n",
       "      <td>0.0</td>\n",
       "      <td>1.0</td>\n",
       "      <td>1.0</td>\n",
       "      <td>Normal_Weight</td>\n",
       "      <td>23.665</td>\n",
       "      <td>0.0</td>\n",
       "      <td>1.0</td>\n",
       "      <td>0.0</td>\n",
       "      <td>1.0</td>\n",
       "    </tr>\n",
       "    <tr>\n",
       "      <th>496</th>\n",
       "      <td>1.0</td>\n",
       "      <td>18.0</td>\n",
       "      <td>1.72</td>\n",
       "      <td>53.0</td>\n",
       "      <td>1.0</td>\n",
       "      <td>1.0</td>\n",
       "      <td>2.0</td>\n",
       "      <td>3.0</td>\n",
       "      <td>1.0</td>\n",
       "      <td>0.0</td>\n",
       "      <td>...</td>\n",
       "      <td>0.0</td>\n",
       "      <td>2.0</td>\n",
       "      <td>1.0</td>\n",
       "      <td>1.0</td>\n",
       "      <td>Underweight</td>\n",
       "      <td>17.915</td>\n",
       "      <td>0.0</td>\n",
       "      <td>0.0</td>\n",
       "      <td>0.0</td>\n",
       "      <td>0.0</td>\n",
       "    </tr>\n",
       "    <tr>\n",
       "      <th>497</th>\n",
       "      <td>1.0</td>\n",
       "      <td>20.0</td>\n",
       "      <td>1.56</td>\n",
       "      <td>45.0</td>\n",
       "      <td>0.0</td>\n",
       "      <td>0.0</td>\n",
       "      <td>2.0</td>\n",
       "      <td>3.0</td>\n",
       "      <td>1.0</td>\n",
       "      <td>0.0</td>\n",
       "      <td>...</td>\n",
       "      <td>1.0</td>\n",
       "      <td>1.0</td>\n",
       "      <td>1.0</td>\n",
       "      <td>1.0</td>\n",
       "      <td>Normal_Weight</td>\n",
       "      <td>18.491</td>\n",
       "      <td>1.0</td>\n",
       "      <td>1.0</td>\n",
       "      <td>0.0</td>\n",
       "      <td>1.0</td>\n",
       "    </tr>\n",
       "  </tbody>\n",
       "</table>\n",
       "<p>479 rows × 22 columns</p>\n",
       "</div>"
      ],
      "text/plain": [
       "     Gender   Age  Height  Weight  fam_hist  high_cal_foods  veg  \\\n",
       "0       0.0  21.0    1.62    64.0       1.0             0.0  2.0   \n",
       "1       0.0  21.0    1.52    56.0       1.0             0.0  3.0   \n",
       "2       1.0  23.0    1.80    77.0       1.0             0.0  2.0   \n",
       "3       1.0  27.0    1.80    87.0       0.0             0.0  3.0   \n",
       "4       1.0  22.0    1.78    89.8       0.0             0.0  2.0   \n",
       "..      ...   ...     ...     ...       ...             ...  ...   \n",
       "491     1.0  25.0    1.66    68.0       0.0             1.0  2.0   \n",
       "492     1.0  45.0    1.70    86.0       0.0             1.0  3.0   \n",
       "494     0.0  18.0    1.67    66.0       0.0             1.0  3.0   \n",
       "496     1.0  18.0    1.72    53.0       1.0             1.0  2.0   \n",
       "497     1.0  20.0    1.56    45.0       0.0             0.0  2.0   \n",
       "\n",
       "     num_main_meals  food_between_meals  nicotine  ...  physical_activity  \\\n",
       "0               3.0                 1.0       0.0  ...                0.0   \n",
       "1               3.0                 1.0       1.0  ...                3.0   \n",
       "2               3.0                 1.0       0.0  ...                2.0   \n",
       "3               3.0                 1.0       0.0  ...                2.0   \n",
       "4               1.0                 1.0       0.0  ...                0.0   \n",
       "..              ...                 ...       ...  ...                ...   \n",
       "491             3.0                 1.0       1.0  ...                1.0   \n",
       "492             3.0                 2.0       0.0  ...                0.0   \n",
       "494             3.0                 1.0       0.0  ...                0.0   \n",
       "496             3.0                 1.0       0.0  ...                0.0   \n",
       "497             3.0                 1.0       0.0  ...                1.0   \n",
       "\n",
       "     time_using_tech_devices  alcohol  transportation          obesity_lvl  \\\n",
       "0                        1.0      0.0             1.0        Normal_Weight   \n",
       "1                        0.0      1.0             1.0        Normal_Weight   \n",
       "2                        1.0      2.0             1.0        Normal_Weight   \n",
       "3                        0.0      2.0             2.0   Overweight_Level_I   \n",
       "4                        0.0      1.0             1.0  Overweight_Level_II   \n",
       "..                       ...      ...             ...                  ...   \n",
       "491                      1.0      1.0             1.0        Normal_Weight   \n",
       "492                      0.0      0.0             0.0  Overweight_Level_II   \n",
       "494                      0.0      1.0             1.0        Normal_Weight   \n",
       "496                      2.0      1.0             1.0          Underweight   \n",
       "497                      1.0      1.0             1.0        Normal_Weight   \n",
       "\n",
       "        BMI age_group  new_obesity_4lvls  obese  new_obesity_7lvls  \n",
       "0    24.387       1.0                1.0    0.0                1.0  \n",
       "1    24.238       1.0                1.0    0.0                1.0  \n",
       "2    23.765       2.0                1.0    0.0                1.0  \n",
       "3    26.852       3.0                2.0    1.0                2.0  \n",
       "4    28.342       2.0                2.0    1.0                3.0  \n",
       "..      ...       ...                ...    ...                ...  \n",
       "491  24.677       3.0                1.0    0.0                1.0  \n",
       "492  29.758       3.0                2.0    1.0                3.0  \n",
       "494  23.665       0.0                1.0    0.0                1.0  \n",
       "496  17.915       0.0                0.0    0.0                0.0  \n",
       "497  18.491       1.0                1.0    0.0                1.0  \n",
       "\n",
       "[479 rows x 22 columns]"
      ]
     },
     "execution_count": 2,
     "metadata": {},
     "output_type": "execute_result"
    }
   ],
   "source": [
    "original_df=pd.read_csv('Final_obesity_dataset.csv', index_col=0)\n",
    "df=original_df.copy()\n",
    "df"
   ]
  },
  {
   "cell_type": "code",
   "execution_count": 3,
   "id": "e7f3c99e-2190-4238-8e07-5238ba78a5c0",
   "metadata": {},
   "outputs": [
    {
     "data": {
      "text/plain": [
       "Normal_Weight          276\n",
       "Overweight_Level_II     57\n",
       "Overweight_Level_I      55\n",
       "Obesity_Type_I          44\n",
       "Underweight             34\n",
       "Obesity_Type_II         10\n",
       "Obesity_Type_III         3\n",
       "Name: obesity_lvl, dtype: int64"
      ]
     },
     "execution_count": 3,
     "metadata": {},
     "output_type": "execute_result"
    }
   ],
   "source": [
    "df.obesity_lvl.value_counts()"
   ]
  },
  {
   "cell_type": "code",
   "execution_count": 4,
   "id": "ceae930e-9735-461c-a554-f641cfda443a",
   "metadata": {},
   "outputs": [
    {
     "data": {
      "text/plain": [
       "0.0    310\n",
       "1.0    169\n",
       "Name: obese, dtype: int64"
      ]
     },
     "execution_count": 4,
     "metadata": {},
     "output_type": "execute_result"
    }
   ],
   "source": [
    "df['obese'].value_counts()"
   ]
  },
  {
   "cell_type": "markdown",
   "id": "619cbf85-1d42-477a-8d38-1c6038dd4d9e",
   "metadata": {},
   "source": [
    "Since this dataset is imbalanced, accuracy might not be the best scoring method. We later split the data 50/50 due to the small data size."
   ]
  },
  {
   "cell_type": "code",
   "execution_count": 5,
   "id": "226cfd02-1e08-4461-8c07-7c1c9cbed947",
   "metadata": {},
   "outputs": [],
   "source": [
    "models=pd.DataFrame(index=['Logistic Regression', 'Random Forest Classifier', 'XGB Classifier'],\\\n",
    "                    columns=['Best_params', 'Optimal_features', 'ROC_AUC'])\n"
   ]
  },
  {
   "cell_type": "markdown",
   "id": "0917758b-a1f0-46ec-a108-9bc08602ba16",
   "metadata": {
    "tags": []
   },
   "source": [
    "## 1. Logistic Regression"
   ]
  },
  {
   "cell_type": "code",
   "execution_count": 6,
   "id": "eedb6e48-67b2-4121-b574-d77eadcb33c3",
   "metadata": {},
   "outputs": [],
   "source": [
    "cols=['age_group', 'veg', 'num_main_meals', 'daily_water', 'physical_activity', 'time_using_tech_devices', 'food_between_meals', 'alcohol', 'Gender', 'fam_hist', 'high_cal_foods', 'cal_consumption_monitoring', 'nicotine', 'transportation']\n",
    "X=df[cols]\n",
    "y=df[['obese']].values.ravel()\n",
    "X_train, X_test, y_train, y_test = train_test_split(X, y, test_size=0.5, random_state=16)"
   ]
  },
  {
   "cell_type": "code",
   "execution_count": 7,
   "id": "dc3436f8-6944-431e-86ff-4a219467d627",
   "metadata": {},
   "outputs": [],
   "source": [
    "scaler=MinMaxScaler().fit(X_train)\n",
    "X_train_scaled=scaler.transform(X_train)\n",
    "X_test_scaled=scaler.transform(X_test)"
   ]
  },
  {
   "cell_type": "code",
   "execution_count": 8,
   "id": "2598ad73-4b3a-4dac-8bc9-33f4b150e592",
   "metadata": {},
   "outputs": [
    {
     "name": "stdout",
     "output_type": "stream",
     "text": [
      "Tuned Logistic Regression Parameter: {'C': 0.1}\n",
      "Tuned Logistic Regression Score: 0.7216666666666667\n"
     ]
    }
   ],
   "source": [
    "clf=LogisticRegression(random_state=16)\n",
    "param_grid={'C':[0.001, 0.01, 0.1, 1, 10, 100, 1000]}\n",
    "logreg_cv=GridSearchCV(clf, param_grid, scoring='roc_auc', cv=10)\n",
    "logreg_cv.fit(X_train_scaled, y_train)\n",
    "print(\"Tuned Logistic Regression Parameter: {}\".format(logreg_cv.best_params_))\n",
    "print(\"Tuned Logistic Regression Score: {}\".format(logreg_cv.best_score_))"
   ]
  },
  {
   "cell_type": "code",
   "execution_count": 9,
   "id": "e57cb22f-6a95-4c75-9a71-8de0abba2536",
   "metadata": {},
   "outputs": [],
   "source": [
    "cols=['age_group', 'fam_hist', 'physical_activity', 'Gender', 'food_between_meals']\n",
    "X=df[cols]\n",
    "X_train, X_test, y_train, y_test = train_test_split(X, y, test_size=0.5, random_state=16)"
   ]
  },
  {
   "cell_type": "code",
   "execution_count": 10,
   "id": "3ba7440c-1db8-4677-8857-a72ba81b46ec",
   "metadata": {},
   "outputs": [
    {
     "name": "stdout",
     "output_type": "stream",
     "text": [
      "Tuned Logistic Regression Parameter: {'C': 1}\n",
      "Tuned Logistic Regression Accuracy: 0.725\n"
     ]
    }
   ],
   "source": [
    "scaler=MinMaxScaler().fit(X_train)\n",
    "X_train_scaled=scaler.transform(X_train)\n",
    "X_test_scaled=scaler.transform(X_test)\n",
    "clf=LogisticRegression(random_state=16)\n",
    "param_grid={'C':[0.001, 0.01, 0.1, 1, 10, 100, 1000]}\n",
    "logreg_cv=GridSearchCV(clf, param_grid, scoring='roc_auc', cv=10)\n",
    "logreg_cv.fit(X_train_scaled, y_train)\n",
    "print(\"Tuned Logistic Regression Parameter: {}\".format(logreg_cv.best_params_))\n",
    "print(\"Tuned Logistic Regression Accuracy: {}\".format(logreg_cv.best_score_))\n",
    "models.Best_params[0]=logreg_cv.best_params_\n",
    "models.Optimal_features[0]=cols\n",
    "models.ROC_AUC[0]=logreg_cv.best_score_"
   ]
  },
  {
   "cell_type": "markdown",
   "id": "cd243d88-1582-4e53-badb-df5ed5a1ae55",
   "metadata": {
    "tags": []
   },
   "source": [
    "## 2. Random Forest Classifier"
   ]
  },
  {
   "cell_type": "code",
   "execution_count": 11,
   "id": "876b8f7d-30ea-47e3-82f9-75a4d6e7c1e9",
   "metadata": {},
   "outputs": [],
   "source": [
    "cols=['age_group', 'veg', 'num_main_meals', 'daily_water', 'physical_activity', 'time_using_tech_devices', 'food_between_meals', 'alcohol', 'Gender', 'fam_hist', 'high_cal_foods', 'cal_consumption_monitoring', 'nicotine', 'transportation']\n",
    "X=df[cols]\n",
    "y=df[['obese']].values.ravel()\n",
    "X_train, X_test, y_train, y_test = train_test_split(X, y, test_size=0.5, random_state=16)\n",
    "scaler=MinMaxScaler().fit(X_train)\n",
    "X_train_scaled=scaler.transform(X_train)\n",
    "X_test_scaled=scaler.transform(X_test)"
   ]
  },
  {
   "cell_type": "code",
   "execution_count": 12,
   "id": "81ebd1ef-3963-4d83-93ad-9eeab3801e54",
   "metadata": {},
   "outputs": [],
   "source": [
    "param_grid={'n_estimators':[10, 50, 100, 300, 500, 700, 1000],\n",
    "            'criterion':['gini', 'entropy'],\n",
    "            'max_features':['auto', 'sqrt', 'log2'],\n",
    "            'max_depth':[None, 1, 3, 5, 7, 15, 30]}\n",
    "clf=RandomForestClassifier(random_state=16)\n",
    "random_forest_cv=GridSearchCV(clf, param_grid, cv=10, scoring='roc_auc', n_jobs=-1)"
   ]
  },
  {
   "cell_type": "code",
   "execution_count": 13,
   "id": "62757edb-b758-4164-86a7-c6fbcbbac9de",
   "metadata": {},
   "outputs": [
    {
     "data": {
      "text/plain": [
       "GridSearchCV(cv=10, estimator=RandomForestClassifier(random_state=16),\n",
       "             n_jobs=-1,\n",
       "             param_grid={'criterion': ['gini', 'entropy'],\n",
       "                         'max_depth': [None, 1, 3, 5, 7, 15, 30],\n",
       "                         'max_features': ['auto', 'sqrt', 'log2'],\n",
       "                         'n_estimators': [10, 50, 100, 300, 500, 700, 1000]},\n",
       "             scoring='roc_auc')"
      ]
     },
     "execution_count": 13,
     "metadata": {},
     "output_type": "execute_result"
    }
   ],
   "source": [
    "random_forest_cv.fit(X_train_scaled, y_train)"
   ]
  },
  {
   "cell_type": "code",
   "execution_count": 14,
   "id": "ff1c1060-a218-43ac-ac29-c285be6150ac",
   "metadata": {},
   "outputs": [
    {
     "name": "stdout",
     "output_type": "stream",
     "text": [
      "Tuned Random Forest Classifier Parameter: {'criterion': 'gini', 'max_depth': 5, 'max_features': 'auto', 'n_estimators': 100}\n",
      "Tuned Random Forest Classifier Score: 0.7381481481481481\n"
     ]
    }
   ],
   "source": [
    "print(\"Tuned Random Forest Classifier Parameter: {}\".format(random_forest_cv.best_params_))\n",
    "print(\"Tuned Random Forest Classifier Score: {}\".format(random_forest_cv.best_score_))"
   ]
  },
  {
   "cell_type": "code",
   "execution_count": 15,
   "id": "2ffd4e4f-b9d6-4358-bae9-5f58d23e7358",
   "metadata": {},
   "outputs": [],
   "source": [
    "cols=['age_group', 'fam_hist', 'physical_activity', 'daily_water', 'food_between_meals', 'veg', 'Gender', 'high_cal_foods']\n",
    "X=df[cols]\n",
    "X_train, X_test, y_train, y_test = train_test_split(X, y, test_size=0.5, random_state=16)\n",
    "scaler=MinMaxScaler().fit(X_train)\n",
    "X_train_scaled=scaler.transform(X_train)\n",
    "X_test_scaled=scaler.transform(X_test)"
   ]
  },
  {
   "cell_type": "code",
   "execution_count": 16,
   "id": "b8af638b-78ba-4d7f-896a-6e9ad7212622",
   "metadata": {},
   "outputs": [],
   "source": [
    "param_grid={'n_estimators':[10, 50, 100, 300, 500, 700, 1000],\n",
    "            'criterion':['gini', 'entropy'],\n",
    "            'max_features':['auto', 'sqrt', 'log2'],\n",
    "            'max_depth':[None, 1, 3, 5, 7, 15, 30]}\n",
    "clf=RandomForestClassifier(random_state=16)\n",
    "random_forest_cv=GridSearchCV(clf, param_grid, cv=10, scoring='roc_auc', n_jobs=-1)"
   ]
  },
  {
   "cell_type": "code",
   "execution_count": 17,
   "id": "aeb595c7-6a53-462a-96f6-bdd5a384cb4b",
   "metadata": {},
   "outputs": [
    {
     "data": {
      "text/plain": [
       "GridSearchCV(cv=10, estimator=RandomForestClassifier(random_state=16),\n",
       "             n_jobs=-1,\n",
       "             param_grid={'criterion': ['gini', 'entropy'],\n",
       "                         'max_depth': [None, 1, 3, 5, 7, 15, 30],\n",
       "                         'max_features': ['auto', 'sqrt', 'log2'],\n",
       "                         'n_estimators': [10, 50, 100, 300, 500, 700, 1000]},\n",
       "             scoring='roc_auc')"
      ]
     },
     "execution_count": 17,
     "metadata": {},
     "output_type": "execute_result"
    }
   ],
   "source": [
    "random_forest_cv.fit(X_train_scaled, y_train)"
   ]
  },
  {
   "cell_type": "code",
   "execution_count": 18,
   "id": "84b4d46a-7c85-445a-a78e-7f3e826c2046",
   "metadata": {},
   "outputs": [
    {
     "name": "stdout",
     "output_type": "stream",
     "text": [
      "Tuned Random Forest Classifier Parameter: {'criterion': 'entropy', 'max_depth': 3, 'max_features': 'log2', 'n_estimators': 50}\n",
      "Tuned Random Forest Classifier Score: 0.7564814814814815\n"
     ]
    }
   ],
   "source": [
    "print(\"Tuned Random Forest Classifier Parameter: {}\".format(random_forest_cv.best_params_))\n",
    "print(\"Tuned Random Forest Classifier Score: {}\".format(random_forest_cv.best_score_))"
   ]
  },
  {
   "cell_type": "code",
   "execution_count": 19,
   "id": "d7b9cbb7-48cb-44b3-a526-24e4d75bf078",
   "metadata": {},
   "outputs": [],
   "source": [
    "models.Best_params[1]=random_forest_cv.best_params_\n",
    "models.Optimal_features[1]=cols\n",
    "models.ROC_AUC[1]=random_forest_cv.best_score_"
   ]
  },
  {
   "cell_type": "markdown",
   "id": "6d235415-48d3-4334-86bf-5576bbe3877f",
   "metadata": {},
   "source": [
    "Random Forest Classifier seems like a better model to use than Logistic Regression."
   ]
  },
  {
   "cell_type": "markdown",
   "id": "0fd4f091-a748-4eb1-918a-5cf7a8737e39",
   "metadata": {
    "tags": []
   },
   "source": [
    "## 3. Extreme Gradient Boosting"
   ]
  },
  {
   "cell_type": "code",
   "execution_count": 20,
   "id": "6d11874b-6f2f-4453-88c9-11a04c9558fb",
   "metadata": {},
   "outputs": [],
   "source": [
    "cols=['age_group', 'veg', 'num_main_meals', 'daily_water', 'physical_activity', 'time_using_tech_devices', 'food_between_meals', 'alcohol', 'Gender', 'fam_hist', 'high_cal_foods', 'cal_consumption_monitoring', 'nicotine', 'transportation']\n",
    "X=df[cols]\n",
    "y=df[['obese']].values.ravel()\n",
    "X_train, X_test, y_train, y_test = train_test_split(X, y, test_size=0.5, random_state=16)\n",
    "scaler=MinMaxScaler().fit(X_train)\n",
    "X_train_scaled=scaler.transform(X_train)\n",
    "X_test_scaled=scaler.transform(X_test)"
   ]
  },
  {
   "cell_type": "code",
   "execution_count": 21,
   "id": "7292f5c1-9a49-4974-a8c0-370135b3facd",
   "metadata": {},
   "outputs": [
    {
     "name": "stdout",
     "output_type": "stream",
     "text": [
      "[18:41:30] WARNING: C:/Users/Administrator/workspace/xgboost-win64_release_1.5.1/src/learner.cc:1115: Starting in XGBoost 1.3.0, the default evaluation metric used with the objective 'binary:logistic' was changed from 'error' to 'logloss'. Explicitly set eval_metric if you'd like to restore the old behavior.\n",
      "Tuned XGB Classifier Parameter: {'colsample_bytree': 0.1, 'max_depth': 3, 'n_estimators': 100}\n",
      "Tuned XGB Classifier Score: 0.7469444444444444\n"
     ]
    }
   ],
   "source": [
    "param_grid={'n_estimators':[10, 50, 100, 300, 500],\n",
    "            'max_depth':[1, 3, 15, None],\n",
    "           'colsample_bytree':[0.1, 0.3, 0.5, 0.7, 1]}\n",
    "clf=XGBClassifier(random_state=16, use_label_encoder=False)\n",
    "xgb_cv=GridSearchCV(clf, param_grid, cv=10, scoring='roc_auc', n_jobs=-1)\n",
    "xgb_cv.fit(X_train_scaled, y_train)\n",
    "print(\"Tuned XGB Classifier Parameter: {}\".format(xgb_cv.best_params_))\n",
    "print(\"Tuned XGB Classifier Score: {}\".format(xgb_cv.best_score_))"
   ]
  },
  {
   "cell_type": "code",
   "execution_count": 22,
   "id": "07889061-b003-4467-9912-5e9a1541188b",
   "metadata": {},
   "outputs": [],
   "source": [
    "cols=['age_group', 'fam_hist', 'physical_activity', 'Gender', 'daily_water']\n",
    "X=df[cols]\n",
    "X_train, X_test, y_train, y_test = train_test_split(X, y, test_size=0.5, random_state=16)\n",
    "scaler=MinMaxScaler().fit(X_train)\n",
    "X_train_scaled=scaler.transform(X_train)\n",
    "X_test_scaled=scaler.transform(X_test)"
   ]
  },
  {
   "cell_type": "code",
   "execution_count": 23,
   "id": "1895b1ac-22c3-49c6-8c4e-b60843bfba5e",
   "metadata": {
    "tags": []
   },
   "outputs": [
    {
     "name": "stdout",
     "output_type": "stream",
     "text": [
      "[18:42:23] WARNING: C:/Users/Administrator/workspace/xgboost-win64_release_1.5.1/src/learner.cc:1115: Starting in XGBoost 1.3.0, the default evaluation metric used with the objective 'binary:logistic' was changed from 'error' to 'logloss'. Explicitly set eval_metric if you'd like to restore the old behavior.\n",
      "Tuned XGB Classifier Parameter: {'colsample_bytree': 1, 'max_depth': 1, 'n_estimators': 50}\n",
      "Tuned XGB Classifier Score: 0.7501388888888888\n"
     ]
    }
   ],
   "source": [
    "param_grid={'n_estimators':[10, 50, 100, 300, 500],\n",
    "            'max_depth':[1, 3, 5, 15, 30, None],\n",
    "           'colsample_bytree':[0.1, 0.3, 0.5, 0.7, 1]}\n",
    "clf=XGBClassifier(random_state=16, use_label_encoder=False)\n",
    "xgb_cv=GridSearchCV(clf, param_grid, cv=10, scoring='roc_auc', n_jobs=-1)\n",
    "xgb_cv.fit(X_train_scaled, y_train)\n",
    "print(\"Tuned XGB Classifier Parameter: {}\".format(xgb_cv.best_params_))\n",
    "print(\"Tuned XGB Classifier Score: {}\".format(xgb_cv.best_score_))"
   ]
  },
  {
   "cell_type": "code",
   "execution_count": 24,
   "id": "9cd1b2af-0df1-47a4-a2c4-852f76728da6",
   "metadata": {},
   "outputs": [],
   "source": [
    "models.Best_params[2]=xgb_cv.best_params_\n",
    "models.Optimal_features[2]=cols\n",
    "models.ROC_AUC[2]=xgb_cv.best_score_"
   ]
  },
  {
   "cell_type": "code",
   "execution_count": 25,
   "id": "2d86bc3d-b24b-4a59-928a-031f3d0df71b",
   "metadata": {},
   "outputs": [
    {
     "data": {
      "text/html": [
       "<div>\n",
       "<style scoped>\n",
       "    .dataframe tbody tr th:only-of-type {\n",
       "        vertical-align: middle;\n",
       "    }\n",
       "\n",
       "    .dataframe tbody tr th {\n",
       "        vertical-align: top;\n",
       "    }\n",
       "\n",
       "    .dataframe thead th {\n",
       "        text-align: right;\n",
       "    }\n",
       "</style>\n",
       "<table border=\"1\" class=\"dataframe\">\n",
       "  <thead>\n",
       "    <tr style=\"text-align: right;\">\n",
       "      <th></th>\n",
       "      <th>Best_params</th>\n",
       "      <th>Optimal_features</th>\n",
       "      <th>ROC_AUC</th>\n",
       "    </tr>\n",
       "  </thead>\n",
       "  <tbody>\n",
       "    <tr>\n",
       "      <th>Logistic Regression</th>\n",
       "      <td>{'C': 1}</td>\n",
       "      <td>[age_group, fam_hist, physical_activity, Gender, food_between_meals]</td>\n",
       "      <td>0.725</td>\n",
       "    </tr>\n",
       "    <tr>\n",
       "      <th>Random Forest Classifier</th>\n",
       "      <td>{'criterion': 'entropy', 'max_depth': 3, 'max_features': 'log2', 'n_estimators': 50}</td>\n",
       "      <td>[age_group, fam_hist, physical_activity, daily_water, food_between_meals, veg, Gender, high_cal_foods]</td>\n",
       "      <td>0.756481</td>\n",
       "    </tr>\n",
       "    <tr>\n",
       "      <th>XGB Classifier</th>\n",
       "      <td>{'colsample_bytree': 1, 'max_depth': 1, 'n_estimators': 50}</td>\n",
       "      <td>[age_group, fam_hist, physical_activity, Gender, daily_water]</td>\n",
       "      <td>0.750139</td>\n",
       "    </tr>\n",
       "  </tbody>\n",
       "</table>\n",
       "</div>"
      ],
      "text/plain": [
       "                                                                                                   Best_params  \\\n",
       "Logistic Regression                                                                                   {'C': 1}   \n",
       "Random Forest Classifier  {'criterion': 'entropy', 'max_depth': 3, 'max_features': 'log2', 'n_estimators': 50}   \n",
       "XGB Classifier                                     {'colsample_bytree': 1, 'max_depth': 1, 'n_estimators': 50}   \n",
       "\n",
       "                                                                                                                Optimal_features  \\\n",
       "Logistic Regression                                         [age_group, fam_hist, physical_activity, Gender, food_between_meals]   \n",
       "Random Forest Classifier  [age_group, fam_hist, physical_activity, daily_water, food_between_meals, veg, Gender, high_cal_foods]   \n",
       "XGB Classifier                                                     [age_group, fam_hist, physical_activity, Gender, daily_water]   \n",
       "\n",
       "                           ROC_AUC  \n",
       "Logistic Regression          0.725  \n",
       "Random Forest Classifier  0.756481  \n",
       "XGB Classifier            0.750139  "
      ]
     },
     "execution_count": 25,
     "metadata": {},
     "output_type": "execute_result"
    }
   ],
   "source": [
    "pd.set_option('display.max_colwidth', None)\n",
    "models"
   ]
  },
  {
   "cell_type": "markdown",
   "id": "9b7a007c-e13f-4210-a7d2-bc1f20220db8",
   "metadata": {},
   "source": [
    "XGB Classifier seems to be a good model, but Random Forest Classifier results in a slightly better score."
   ]
  },
  {
   "cell_type": "markdown",
   "id": "581432e3-61b2-4d73-95cc-42920d124c20",
   "metadata": {
    "tags": []
   },
   "source": [
    "# Analysis of the Random Forest Classifier"
   ]
  },
  {
   "cell_type": "code",
   "execution_count": 26,
   "id": "370c0892-553a-4530-87a7-363ab2ca7da0",
   "metadata": {},
   "outputs": [
    {
     "name": "stdout",
     "output_type": "stream",
     "text": [
      "['age_group', 'fam_hist', 'physical_activity', 'daily_water', 'food_between_meals', 'veg', 'Gender', 'high_cal_foods']\n"
     ]
    }
   ],
   "source": [
    "cols=['age_group', 'fam_hist', 'physical_activity', 'daily_water', 'food_between_meals', 'veg', 'Gender', 'high_cal_foods']\n",
    "X=df[cols]\n",
    "print(cols)"
   ]
  },
  {
   "cell_type": "code",
   "execution_count": 27,
   "id": "b39746c8-5b52-40dc-99de-fdbdaba1af7a",
   "metadata": {},
   "outputs": [
    {
     "data": {
      "image/png": "[encoded data removed]",
      "text/plain": [
       "<Figure size 432x288 with 2 Axes>"
      ]
     },
     "metadata": {
      "needs_background": "light"
     },
     "output_type": "display_data"
    },
    {
     "name": "stdout",
     "output_type": "stream",
     "text": [
      "              precision    recall  f1-score   support\n",
      "\n",
      "         0.0       0.75      0.88      0.81       160\n",
      "         1.0       0.62      0.41      0.50        80\n",
      "\n",
      "    accuracy                           0.72       240\n",
      "   macro avg       0.69      0.64      0.65       240\n",
      "weighted avg       0.71      0.72      0.70       240\n",
      "\n"
     ]
    }
   ],
   "source": [
    "clf=RandomForestClassifier(random_state=16, criterion='entropy', max_depth=3, max_features='log2', n_estimators=50)\n",
    "\n",
    "X_train, X_test, y_train, y_test = train_test_split(X, y, test_size=0.5, random_state=16)\n",
    "scaler=MinMaxScaler().fit(X_train)\n",
    "X_train_scaled=scaler.transform(X_train)\n",
    "X_test_scaled=scaler.transform(X_test)\n",
    "\n",
    "clf.fit(X_train_scaled, y_train)\n",
    "y_pred=clf.predict(X_test_scaled)\n",
    "y_pred_prob=clf.predict_proba(X_test_scaled)[:,1]\n",
    "cm=confusion_matrix(y_test, y_pred)\n",
    "disp=ConfusionMatrixDisplay(cm)\n",
    "disp.plot()\n",
    "plt.grid(False)\n",
    "plt.show()\n",
    "print(classification_report(y_test, y_pred))"
   ]
  },
  {
   "cell_type": "markdown",
   "id": "3a007675-f5bc-408b-bf31-992afaba2cea",
   "metadata": {},
   "source": [
    "$Precision=\\frac{TP}{TP+FP}$, $Recall=\\frac{TP}{TP+FN}$ \n",
    "\n",
    "We see that true negatives (not overweight/obese) were much easier to predict than true positives (overweight/obese). "
   ]
  },
  {
   "cell_type": "code",
   "execution_count": 28,
   "id": "443b1139-07db-4e07-924d-b91011f1a070",
   "metadata": {},
   "outputs": [
    {
     "data": {
      "image/png": "[encoded data removed]",
      "text/plain": [
       "<Figure size 432x288 with 1 Axes>"
      ]
     },
     "metadata": {
      "needs_background": "light"
     },
     "output_type": "display_data"
    }
   ],
   "source": [
    "precision, recall, threshold = precision_recall_curve(y_test, y_pred_prob)\n",
    "fig, ax=plt.subplots()\n",
    "ax.plot(recall, precision)\n",
    "ax.set_xlabel('Recall')\n",
    "ax.set_ylabel('Precision')\n",
    "ax.set_title('Precision-Recall Curve')\n",
    "plt.show()"
   ]
  },
  {
   "cell_type": "code",
   "execution_count": 29,
   "id": "ea404566-5c15-48bd-8f4b-d3723fe9dd74",
   "metadata": {
    "tags": []
   },
   "outputs": [
    {
     "data": {
      "image/png": "[encoded data removed]",
      "text/plain": [
       "<Figure size 432x288 with 1 Axes>"
      ]
     },
     "metadata": {
      "needs_background": "light"
     },
     "output_type": "display_data"
    }
   ],
   "source": [
    "fig, ax=plt.subplots()\n",
    "ax.plot(threshold, precision[1:], label='Precision')\n",
    "ax.plot(threshold, recall[1:], label='Recall')\n",
    "\n",
    "\n",
    "ax.set_xlabel('Threshold')\n",
    "ax.set_ylabel('Precision/Recall')\n",
    "ax.set_title('Precision/Recall vs. Threshold')\n",
    "\n",
    "fscore=2*(precision*recall)/(precision+recall)\n",
    "f_ix=np.argmax(fscore)\n",
    "\n",
    "f2=fbeta_score(y_test, y_pred, beta=2)\n",
    "\n",
    "f2score=(5*precision*recall)/((4*precision)+recall)\n",
    "\n",
    "f2_ix=np.argmax(f2score)\n",
    "\n",
    "ax.plot(threshold, fscore[1:], label='F-score')\n",
    "ax.plot(threshold, f2score[1:], label='F2-score')\n",
    "\n",
    "ax.axvline(threshold[f_ix], linestyle='dashed', color='red')\n",
    "plt.text(threshold[f_ix]*1.02,0.975, 'Threshold: '+str(np.round(threshold[f_ix], 3)), fontsize='small', backgroundcolor='mistyrose')\n",
    "plt.text(threshold[f_ix]*1.02, 0.875,  'Max F-score: '+str(np.round(fscore[f_ix], 3)), fontsize='small', backgroundcolor='mistyrose')\n",
    "\n",
    "ax.axvline(threshold[f2_ix], linestyle='dashed', color='green')\n",
    "plt.text(threshold[f2_ix]*1.04, 0.975, 'Threshold: '+str(np.round(threshold[f2_ix], 3)), fontsize='small', backgroundcolor='honeydew')\n",
    "plt.text(threshold[f2_ix]*1.04, 0.875, 'Max F2-score: '+str(np.round(f2score[f2_ix], 3)), fontsize='small', backgroundcolor='honeydew')\n",
    "ax.legend()\n",
    "plt.show()\n",
    "\n"
   ]
  },
  {
   "cell_type": "markdown",
   "id": "4923dc08-9693-48be-9326-4fc8e585a7bf",
   "metadata": {},
   "source": [
    "The threshold that best balances precision and recall is one that gives the maximum F-score, where $F=2\\cdot\\frac{precision \\cdot recall}{precision+recall}=\\frac{2\\cdot TP}{2\\cdot TP + FP + FN}$.\n",
    "\n",
    "We want to minimize false negatives (false predictions that someone is under/normal weight when overweight/obese) - we can look at the F2-score, where $F_2=\\frac{(1+\\beta^2)\\cdot Precision\\cdot Recall}{(\\beta^2 \\cdot Precision+Recall)}$, $\\beta = 2$. This puts more importance on recall and less on precision.\n"
   ]
  },
  {
   "cell_type": "code",
   "execution_count": 30,
   "id": "b0ce37d6-a3e1-43c3-9a2f-4ac6f53f8029",
   "metadata": {},
   "outputs": [
    {
     "data": {
      "image/png": "[encoded data removed]",
      "text/plain": [
       "<Figure size 432x288 with 2 Axes>"
      ]
     },
     "metadata": {
      "needs_background": "light"
     },
     "output_type": "display_data"
    },
    {
     "name": "stdout",
     "output_type": "stream",
     "text": [
      "              precision    recall  f1-score   support\n",
      "\n",
      "         0.0       0.78      0.82      0.80       160\n",
      "         1.0       0.60      0.53      0.56        80\n",
      "\n",
      "    accuracy                           0.73       240\n",
      "   macro avg       0.69      0.68      0.68       240\n",
      "weighted avg       0.72      0.72      0.72       240\n",
      "\n"
     ]
    }
   ],
   "source": [
    "fthreshold = 0.459\n",
    "\n",
    "y_pred = (y_pred_prob >= fthreshold).astype('int')\n",
    "\n",
    "cm=confusion_matrix(y_test, y_pred)\n",
    "disp=ConfusionMatrixDisplay(cm)\n",
    "disp.plot()\n",
    "plt.grid(False)\n",
    "plt.title('Confusion Matrix for threshold=0.459, F-score=0.57')\n",
    "plt.show()\n",
    "print(classification_report(y_test, y_pred))"
   ]
  },
  {
   "cell_type": "markdown",
   "id": "f3041085-e04d-48d6-94c3-53ea083e0cea",
   "metadata": {},
   "source": [
    "True positives (true predictions of overweightness/obesity) increased from 33 to 42 with a threshold of 0.459 (obtained with the maximum F-score). True negatives only decreased from 140 to 132. Perhaps false negatives can decrease further with the F2 threshold."
   ]
  },
  {
   "cell_type": "code",
   "execution_count": 31,
   "id": "11014639-6f2d-4cc7-a9e9-2747598cb350",
   "metadata": {},
   "outputs": [
    {
     "data": {
      "image/png": "[encoded data removed]",
      "text/plain": [
       "<Figure size 432x288 with 2 Axes>"
      ]
     },
     "metadata": {
      "needs_background": "light"
     },
     "output_type": "display_data"
    },
    {
     "name": "stdout",
     "output_type": "stream",
     "text": [
      "              precision    recall  f1-score   support\n",
      "\n",
      "         0.0       0.93      0.09      0.16       160\n",
      "         1.0       0.35      0.99      0.52        80\n",
      "\n",
      "    accuracy                           0.39       240\n",
      "   macro avg       0.64      0.54      0.34       240\n",
      "weighted avg       0.74      0.39      0.28       240\n",
      "\n"
     ]
    }
   ],
   "source": [
    "f2threshold = 0.202\n",
    "\n",
    "y_pred = (y_pred_prob >= f2threshold).astype('int')\n",
    "\n",
    "cm=confusion_matrix(y_test, y_pred)\n",
    "disp=ConfusionMatrixDisplay(cm)\n",
    "disp.plot()\n",
    "plt.grid(False)\n",
    "plt.title('Confusion Matrix for threshold=0.202, F2-score=0.733')\n",
    "plt.show()\n",
    "print(classification_report(y_test, y_pred))"
   ]
  },
  {
   "cell_type": "markdown",
   "id": "0d77c8c3-a4e5-4995-8dae-099611e27ea1",
   "metadata": {},
   "source": [
    "The threshold of 0.202 resulted in 79 true positives and 1 false negative. However, there were 146 false positives (predictions that individuals were overweight/obese when they are not)."
   ]
  }
 ],
 "metadata": {
  "kernelspec": {
   "display_name": "Python 3 (ipykernel)",
   "language": "python",
   "name": "python3"
  },
  "language_info": {
   "codemirror_mode": {
    "name": "ipython",
    "version": 3
   },
   "file_extension": ".py",
   "mimetype": "text/x-python",
   "name": "python",
   "nbconvert_exporter": "python",
   "pygments_lexer": "ipython3",
   "version": "3.8.12"
  }
 },
 "nbformat": 4,
 "nbformat_minor": 5
}
