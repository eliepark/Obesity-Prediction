{
 "cells": [
  {
   "cell_type": "markdown",
   "id": "e92a2c03",
   "metadata": {
    "tags": []
   },
   "source": [
    "# Modeling"
   ]
  },
  {
   "cell_type": "code",
   "execution_count": 1,
   "id": "eb822130",
   "metadata": {},
   "outputs": [],
   "source": [
    "import pandas as pd\n",
    "import numpy as np\n",
    "import matplotlib.pyplot as plt\n",
    "from sklearn.model_selection import train_test_split, GridSearchCV\n",
    "from sklearn.ensemble import RandomForestClassifier\n",
    "from sklearn.linear_model import LogisticRegression\n",
    "from xgboost import XGBClassifier\n",
    "from sklearn.preprocessing import MinMaxScaler\n",
    "from sklearn.metrics import precision_recall_curve, classification_report, confusion_matrix, ConfusionMatrixDisplay, roc_curve, \\\n",
    "roc_auc_score, auc, f1_score, fbeta_score"
   ]
  },
  {
   "cell_type": "code",
   "execution_count": 2,
   "id": "cdd57bea",
   "metadata": {},
   "outputs": [
    {
     "data": {
      "text/html": [
       "<div>\n",
       "<style scoped>\n",
       "    .dataframe tbody tr th:only-of-type {\n",
       "        vertical-align: middle;\n",
       "    }\n",
       "\n",
       "    .dataframe tbody tr th {\n",
       "        vertical-align: top;\n",
       "    }\n",
       "\n",
       "    .dataframe thead th {\n",
       "        text-align: right;\n",
       "    }\n",
       "</style>\n",
       "<table border=\"1\" class=\"dataframe\">\n",
       "  <thead>\n",
       "    <tr style=\"text-align: right;\">\n",
       "      <th></th>\n",
       "      <th>Gender</th>\n",
       "      <th>Age</th>\n",
       "      <th>Height</th>\n",
       "      <th>Weight</th>\n",
       "      <th>fam_hist</th>\n",
       "      <th>high_cal_foods</th>\n",
       "      <th>veg</th>\n",
       "      <th>num_main_meals</th>\n",
       "      <th>food_between_meals</th>\n",
       "      <th>nicotine</th>\n",
       "      <th>...</th>\n",
       "      <th>physical_activity</th>\n",
       "      <th>time_using_tech_devices</th>\n",
       "      <th>alcohol</th>\n",
       "      <th>transportation</th>\n",
       "      <th>obesity_lvl</th>\n",
       "      <th>BMI</th>\n",
       "      <th>age_group</th>\n",
       "      <th>new_obesity_4lvls</th>\n",
       "      <th>obese</th>\n",
       "      <th>new_obesity_7lvls</th>\n",
       "    </tr>\n",
       "  </thead>\n",
       "  <tbody>\n",
       "    <tr>\n",
       "      <th>0</th>\n",
       "      <td>0.0</td>\n",
       "      <td>21.0</td>\n",
       "      <td>1.62</td>\n",
       "      <td>64.0</td>\n",
       "      <td>1.0</td>\n",
       "      <td>0.0</td>\n",
       "      <td>2.0</td>\n",
       "      <td>3.0</td>\n",
       "      <td>1.0</td>\n",
       "      <td>0.0</td>\n",
       "      <td>...</td>\n",
       "      <td>0.0</td>\n",
       "      <td>1.0</td>\n",
       "      <td>0.0</td>\n",
       "      <td>1.0</td>\n",
       "      <td>Normal_Weight</td>\n",
       "      <td>24.387</td>\n",
       "      <td>1.0</td>\n",
       "      <td>1.0</td>\n",
       "      <td>0.0</td>\n",
       "      <td>1.0</td>\n",
       "    </tr>\n",
       "    <tr>\n",
       "      <th>1</th>\n",
       "      <td>0.0</td>\n",
       "      <td>21.0</td>\n",
       "      <td>1.52</td>\n",
       "      <td>56.0</td>\n",
       "      <td>1.0</td>\n",
       "      <td>0.0</td>\n",
       "      <td>3.0</td>\n",
       "      <td>3.0</td>\n",
       "      <td>1.0</td>\n",
       "      <td>1.0</td>\n",
       "      <td>...</td>\n",
       "      <td>3.0</td>\n",
       "      <td>0.0</td>\n",
       "      <td>1.0</td>\n",
       "      <td>1.0</td>\n",
       "      <td>Normal_Weight</td>\n",
       "      <td>24.238</td>\n",
       "      <td>1.0</td>\n",
       "      <td>1.0</td>\n",
       "      <td>0.0</td>\n",
       "      <td>1.0</td>\n",
       "    </tr>\n",
       "    <tr>\n",
       "      <th>2</th>\n",
       "      <td>1.0</td>\n",
       "      <td>23.0</td>\n",
       "      <td>1.80</td>\n",
       "      <td>77.0</td>\n",
       "      <td>1.0</td>\n",
       "      <td>0.0</td>\n",
       "      <td>2.0</td>\n",
       "      <td>3.0</td>\n",
       "      <td>1.0</td>\n",
       "      <td>0.0</td>\n",
       "      <td>...</td>\n",
       "      <td>2.0</td>\n",
       "      <td>1.0</td>\n",
       "      <td>2.0</td>\n",
       "      <td>1.0</td>\n",
       "      <td>Normal_Weight</td>\n",
       "      <td>23.765</td>\n",
       "      <td>2.0</td>\n",
       "      <td>1.0</td>\n",
       "      <td>0.0</td>\n",
       "      <td>1.0</td>\n",
       "    </tr>\n",
       "    <tr>\n",
       "      <th>3</th>\n",
       "      <td>1.0</td>\n",
       "      <td>27.0</td>\n",
       "      <td>1.80</td>\n",
       "      <td>87.0</td>\n",
       "      <td>0.0</td>\n",
       "      <td>0.0</td>\n",
       "      <td>3.0</td>\n",
       "      <td>3.0</td>\n",
       "      <td>1.0</td>\n",
       "      <td>0.0</td>\n",
       "      <td>...</td>\n",
       "      <td>2.0</td>\n",
       "      <td>0.0</td>\n",
       "      <td>2.0</td>\n",
       "      <td>2.0</td>\n",
       "      <td>Overweight_Level_I</td>\n",
       "      <td>26.852</td>\n",
       "      <td>3.0</td>\n",
       "      <td>2.0</td>\n",
       "      <td>1.0</td>\n",
       "      <td>2.0</td>\n",
       "    </tr>\n",
       "    <tr>\n",
       "      <th>4</th>\n",
       "      <td>1.0</td>\n",
       "      <td>22.0</td>\n",
       "      <td>1.78</td>\n",
       "      <td>89.8</td>\n",
       "      <td>0.0</td>\n",
       "      <td>0.0</td>\n",
       "      <td>2.0</td>\n",
       "      <td>1.0</td>\n",
       "      <td>1.0</td>\n",
       "      <td>0.0</td>\n",
       "      <td>...</td>\n",
       "      <td>0.0</td>\n",
       "      <td>0.0</td>\n",
       "      <td>1.0</td>\n",
       "      <td>1.0</td>\n",
       "      <td>Overweight_Level_II</td>\n",
       "      <td>28.342</td>\n",
       "      <td>2.0</td>\n",
       "      <td>2.0</td>\n",
       "      <td>1.0</td>\n",
       "      <td>3.0</td>\n",
       "    </tr>\n",
       "    <tr>\n",
       "      <th>...</th>\n",
       "      <td>...</td>\n",
       "      <td>...</td>\n",
       "      <td>...</td>\n",
       "      <td>...</td>\n",
       "      <td>...</td>\n",
       "      <td>...</td>\n",
       "      <td>...</td>\n",
       "      <td>...</td>\n",
       "      <td>...</td>\n",
       "      <td>...</td>\n",
       "      <td>...</td>\n",
       "      <td>...</td>\n",
       "      <td>...</td>\n",
       "      <td>...</td>\n",
       "      <td>...</td>\n",
       "      <td>...</td>\n",
       "      <td>...</td>\n",
       "      <td>...</td>\n",
       "      <td>...</td>\n",
       "      <td>...</td>\n",
       "      <td>...</td>\n",
       "    </tr>\n",
       "    <tr>\n",
       "      <th>491</th>\n",
       "      <td>1.0</td>\n",
       "      <td>25.0</td>\n",
       "      <td>1.66</td>\n",
       "      <td>68.0</td>\n",
       "      <td>0.0</td>\n",
       "      <td>1.0</td>\n",
       "      <td>2.0</td>\n",
       "      <td>3.0</td>\n",
       "      <td>1.0</td>\n",
       "      <td>1.0</td>\n",
       "      <td>...</td>\n",
       "      <td>1.0</td>\n",
       "      <td>1.0</td>\n",
       "      <td>1.0</td>\n",
       "      <td>1.0</td>\n",
       "      <td>Normal_Weight</td>\n",
       "      <td>24.677</td>\n",
       "      <td>3.0</td>\n",
       "      <td>1.0</td>\n",
       "      <td>0.0</td>\n",
       "      <td>1.0</td>\n",
       "    </tr>\n",
       "    <tr>\n",
       "      <th>492</th>\n",
       "      <td>1.0</td>\n",
       "      <td>45.0</td>\n",
       "      <td>1.70</td>\n",
       "      <td>86.0</td>\n",
       "      <td>0.0</td>\n",
       "      <td>1.0</td>\n",
       "      <td>3.0</td>\n",
       "      <td>3.0</td>\n",
       "      <td>2.0</td>\n",
       "      <td>0.0</td>\n",
       "      <td>...</td>\n",
       "      <td>0.0</td>\n",
       "      <td>0.0</td>\n",
       "      <td>0.0</td>\n",
       "      <td>0.0</td>\n",
       "      <td>Overweight_Level_II</td>\n",
       "      <td>29.758</td>\n",
       "      <td>3.0</td>\n",
       "      <td>2.0</td>\n",
       "      <td>1.0</td>\n",
       "      <td>3.0</td>\n",
       "    </tr>\n",
       "    <tr>\n",
       "      <th>494</th>\n",
       "      <td>0.0</td>\n",
       "      <td>18.0</td>\n",
       "      <td>1.67</td>\n",
       "      <td>66.0</td>\n",
       "      <td>0.0</td>\n",
       "      <td>1.0</td>\n",
       "      <td>3.0</td>\n",
       "      <td>3.0</td>\n",
       "      <td>1.0</td>\n",
       "      <td>0.0</td>\n",
       "      <td>...</td>\n",
       "      <td>0.0</td>\n",
       "      <td>0.0</td>\n",
       "      <td>1.0</td>\n",
       "      <td>1.0</td>\n",
       "      <td>Normal_Weight</td>\n",
       "      <td>23.665</td>\n",
       "      <td>0.0</td>\n",
       "      <td>1.0</td>\n",
       "      <td>0.0</td>\n",
       "      <td>1.0</td>\n",
       "    </tr>\n",
       "    <tr>\n",
       "      <th>496</th>\n",
       "      <td>1.0</td>\n",
       "      <td>18.0</td>\n",
       "      <td>1.72</td>\n",
       "      <td>53.0</td>\n",
       "      <td>1.0</td>\n",
       "      <td>1.0</td>\n",
       "      <td>2.0</td>\n",
       "      <td>3.0</td>\n",
       "      <td>1.0</td>\n",
       "      <td>0.0</td>\n",
       "      <td>...</td>\n",
       "      <td>0.0</td>\n",
       "      <td>2.0</td>\n",
       "      <td>1.0</td>\n",
       "      <td>1.0</td>\n",
       "      <td>Underweight</td>\n",
       "      <td>17.915</td>\n",
       "      <td>0.0</td>\n",
       "      <td>0.0</td>\n",
       "      <td>0.0</td>\n",
       "      <td>0.0</td>\n",
       "    </tr>\n",
       "    <tr>\n",
       "      <th>497</th>\n",
       "      <td>1.0</td>\n",
       "      <td>20.0</td>\n",
       "      <td>1.56</td>\n",
       "      <td>45.0</td>\n",
       "      <td>0.0</td>\n",
       "      <td>0.0</td>\n",
       "      <td>2.0</td>\n",
       "      <td>3.0</td>\n",
       "      <td>1.0</td>\n",
       "      <td>0.0</td>\n",
       "      <td>...</td>\n",
       "      <td>1.0</td>\n",
       "      <td>1.0</td>\n",
       "      <td>1.0</td>\n",
       "      <td>1.0</td>\n",
       "      <td>Normal_Weight</td>\n",
       "      <td>18.491</td>\n",
       "      <td>1.0</td>\n",
       "      <td>1.0</td>\n",
       "      <td>0.0</td>\n",
       "      <td>1.0</td>\n",
       "    </tr>\n",
       "  </tbody>\n",
       "</table>\n",
       "<p>479 rows × 22 columns</p>\n",
       "</div>"
      ],
      "text/plain": [
       "     Gender   Age  Height  Weight  fam_hist  high_cal_foods  veg  \\\n",
       "0       0.0  21.0    1.62    64.0       1.0             0.0  2.0   \n",
       "1       0.0  21.0    1.52    56.0       1.0             0.0  3.0   \n",
       "2       1.0  23.0    1.80    77.0       1.0             0.0  2.0   \n",
       "3       1.0  27.0    1.80    87.0       0.0             0.0  3.0   \n",
       "4       1.0  22.0    1.78    89.8       0.0             0.0  2.0   \n",
       "..      ...   ...     ...     ...       ...             ...  ...   \n",
       "491     1.0  25.0    1.66    68.0       0.0             1.0  2.0   \n",
       "492     1.0  45.0    1.70    86.0       0.0             1.0  3.0   \n",
       "494     0.0  18.0    1.67    66.0       0.0             1.0  3.0   \n",
       "496     1.0  18.0    1.72    53.0       1.0             1.0  2.0   \n",
       "497     1.0  20.0    1.56    45.0       0.0             0.0  2.0   \n",
       "\n",
       "     num_main_meals  food_between_meals  nicotine  ...  physical_activity  \\\n",
       "0               3.0                 1.0       0.0  ...                0.0   \n",
       "1               3.0                 1.0       1.0  ...                3.0   \n",
       "2               3.0                 1.0       0.0  ...                2.0   \n",
       "3               3.0                 1.0       0.0  ...                2.0   \n",
       "4               1.0                 1.0       0.0  ...                0.0   \n",
       "..              ...                 ...       ...  ...                ...   \n",
       "491             3.0                 1.0       1.0  ...                1.0   \n",
       "492             3.0                 2.0       0.0  ...                0.0   \n",
       "494             3.0                 1.0       0.0  ...                0.0   \n",
       "496             3.0                 1.0       0.0  ...                0.0   \n",
       "497             3.0                 1.0       0.0  ...                1.0   \n",
       "\n",
       "     time_using_tech_devices  alcohol  transportation          obesity_lvl  \\\n",
       "0                        1.0      0.0             1.0        Normal_Weight   \n",
       "1                        0.0      1.0             1.0        Normal_Weight   \n",
       "2                        1.0      2.0             1.0        Normal_Weight   \n",
       "3                        0.0      2.0             2.0   Overweight_Level_I   \n",
       "4                        0.0      1.0             1.0  Overweight_Level_II   \n",
       "..                       ...      ...             ...                  ...   \n",
       "491                      1.0      1.0             1.0        Normal_Weight   \n",
       "492                      0.0      0.0             0.0  Overweight_Level_II   \n",
       "494                      0.0      1.0             1.0        Normal_Weight   \n",
       "496                      2.0      1.0             1.0          Underweight   \n",
       "497                      1.0      1.0             1.0        Normal_Weight   \n",
       "\n",
       "        BMI age_group  new_obesity_4lvls  obese  new_obesity_7lvls  \n",
       "0    24.387       1.0                1.0    0.0                1.0  \n",
       "1    24.238       1.0                1.0    0.0                1.0  \n",
       "2    23.765       2.0                1.0    0.0                1.0  \n",
       "3    26.852       3.0                2.0    1.0                2.0  \n",
       "4    28.342       2.0                2.0    1.0                3.0  \n",
       "..      ...       ...                ...    ...                ...  \n",
       "491  24.677       3.0                1.0    0.0                1.0  \n",
       "492  29.758       3.0                2.0    1.0                3.0  \n",
       "494  23.665       0.0                1.0    0.0                1.0  \n",
       "496  17.915       0.0                0.0    0.0                0.0  \n",
       "497  18.491       1.0                1.0    0.0                1.0  \n",
       "\n",
       "[479 rows x 22 columns]"
      ]
     },
     "execution_count": 2,
     "metadata": {},
     "output_type": "execute_result"
    }
   ],
   "source": [
    "original_df=pd.read_csv('Final_obesity_dataset.csv', index_col=0)\n",
    "df=original_df.copy()\n",
    "df"
   ]
  },
  {
   "cell_type": "code",
   "execution_count": 3,
   "id": "e7f3c99e-2190-4238-8e07-5238ba78a5c0",
   "metadata": {},
   "outputs": [
    {
     "data": {
      "text/plain": [
       "Normal_Weight          276\n",
       "Overweight_Level_II     57\n",
       "Overweight_Level_I      55\n",
       "Obesity_Type_I          44\n",
       "Underweight             34\n",
       "Obesity_Type_II         10\n",
       "Obesity_Type_III         3\n",
       "Name: obesity_lvl, dtype: int64"
      ]
     },
     "execution_count": 3,
     "metadata": {},
     "output_type": "execute_result"
    }
   ],
   "source": [
    "df.obesity_lvl.value_counts()"
   ]
  },
  {
   "cell_type": "code",
   "execution_count": 4,
   "id": "ceae930e-9735-461c-a554-f641cfda443a",
   "metadata": {},
   "outputs": [
    {
     "data": {
      "text/plain": [
       "0.0    310\n",
       "1.0    169\n",
       "Name: obese, dtype: int64"
      ]
     },
     "execution_count": 4,
     "metadata": {},
     "output_type": "execute_result"
    }
   ],
   "source": [
    "df['obese'].value_counts()"
   ]
  },
  {
   "cell_type": "markdown",
   "id": "619cbf85-1d42-477a-8d38-1c6038dd4d9e",
   "metadata": {},
   "source": [
    "Since this dataset is imbalanced, accuracy might not be the best scoring method. We later split the train/test data 50/50 due to the small data size."
   ]
  },
  {
   "cell_type": "code",
   "execution_count": 5,
   "id": "226cfd02-1e08-4461-8c07-7c1c9cbed947",
   "metadata": {},
   "outputs": [],
   "source": [
    "models=pd.DataFrame(index=['Logistic Regression', 'Random Forest Classifier', 'XGB Classifier'],\\\n",
    "                    columns=['Best_params', 'Optimal_features', 'ROC_AUC'])\n"
   ]
  },
  {
   "cell_type": "markdown",
   "id": "0917758b-a1f0-46ec-a108-9bc08602ba16",
   "metadata": {
    "tags": []
   },
   "source": [
    "## Logistic Regression"
   ]
  },
  {
   "cell_type": "code",
   "execution_count": 6,
   "id": "eedb6e48-67b2-4121-b574-d77eadcb33c3",
   "metadata": {},
   "outputs": [],
   "source": [
    "cols=['age_group', 'veg', 'num_main_meals', 'daily_water', 'physical_activity', 'time_using_tech_devices', 'food_between_meals', 'alcohol', 'Gender', 'fam_hist', 'high_cal_foods', 'cal_consumption_monitoring', 'nicotine', 'transportation']\n",
    "X=df[cols]\n",
    "y=df[['obese']].values.ravel()\n",
    "X_train, X_test, y_train, y_test = train_test_split(X, y, test_size=0.5, random_state=16)"
   ]
  },
  {
   "cell_type": "code",
   "execution_count": 7,
   "id": "dc3436f8-6944-431e-86ff-4a219467d627",
   "metadata": {},
   "outputs": [],
   "source": [
    "scaler=MinMaxScaler().fit(X_train)\n",
    "X_train_scaled=scaler.transform(X_train)\n",
    "X_test_scaled=scaler.transform(X_test)"
   ]
  },
  {
   "cell_type": "code",
   "execution_count": 8,
   "id": "2598ad73-4b3a-4dac-8bc9-33f4b150e592",
   "metadata": {},
   "outputs": [
    {
     "name": "stdout",
     "output_type": "stream",
     "text": [
      "Tuned Logistic Regression Parameter: {'C': 0.1}\n",
      "Tuned Logistic Regression Score: 0.7216666666666667\n"
     ]
    }
   ],
   "source": [
    "clf=LogisticRegression(random_state=16)\n",
    "param_grid={'C':[0.001, 0.01, 0.1, 1, 10, 100, 1000]}\n",
    "logreg_cv=GridSearchCV(clf, param_grid, scoring='roc_auc', cv=10)\n",
    "logreg_cv.fit(X_train_scaled, y_train)\n",
    "print(\"Tuned Logistic Regression Parameter: {}\".format(logreg_cv.best_params_))\n",
    "print(\"Tuned Logistic Regression Score: {}\".format(logreg_cv.best_score_))"
   ]
  },
  {
   "cell_type": "code",
   "execution_count": 9,
   "id": "e57cb22f-6a95-4c75-9a71-8de0abba2536",
   "metadata": {},
   "outputs": [],
   "source": [
    "cols=['age_group','fam_hist','physical_activity','daily_water','veg','food_between_meals','alcohol','nicotine']\n",
    "X=df[cols]\n",
    "X_train, X_test, y_train, y_test = train_test_split(X, y, test_size=0.5, random_state=16)"
   ]
  },
  {
   "cell_type": "code",
   "execution_count": 10,
   "id": "3ba7440c-1db8-4677-8857-a72ba81b46ec",
   "metadata": {},
   "outputs": [
    {
     "name": "stdout",
     "output_type": "stream",
     "text": [
      "Tuned Logistic Regression Parameter: {'C': 0.1}\n",
      "Tuned Logistic Regression Accuracy: 0.7419444444444445\n"
     ]
    }
   ],
   "source": [
    "scaler=MinMaxScaler().fit(X_train)\n",
    "X_train_scaled=scaler.transform(X_train)\n",
    "X_test_scaled=scaler.transform(X_test)\n",
    "clf=LogisticRegression(random_state=16)\n",
    "param_grid={'C':[0.001, 0.01, 0.1, 1, 10, 100, 1000]}\n",
    "logreg_cv=GridSearchCV(clf, param_grid, scoring='roc_auc', cv=10)\n",
    "logreg_cv.fit(X_train_scaled, y_train)\n",
    "print(\"Tuned Logistic Regression Parameter: {}\".format(logreg_cv.best_params_))\n",
    "print(\"Tuned Logistic Regression Accuracy: {}\".format(logreg_cv.best_score_))\n",
    "models.Best_params[0]=logreg_cv.best_params_\n",
    "models.Optimal_features[0]=cols\n",
    "models.ROC_AUC[0]=logreg_cv.best_score_"
   ]
  },
  {
   "cell_type": "code",
   "execution_count": 11,
   "id": "253bd76b-0a2f-45ce-8766-4aff692a0e42",
   "metadata": {},
   "outputs": [],
   "source": [
    "cols=['age_group','fam_hist','physical_activity','daily_water','veg','food_between_meals','alcohol','nicotine']\n",
    "X=df[cols]\n",
    "y=df[['obese']].values.ravel()\n",
    "\n",
    "clf=LogisticRegression(C=100, random_state=16)\n",
    "\n",
    "X_train, X_test, y_train, y_test = train_test_split(X, y, test_size=0.5, random_state=16)\n",
    "scaler=MinMaxScaler().fit(X_train)\n",
    "X_train_scaled=scaler.transform(X_train)\n",
    "X_test_scaled=scaler.transform(X_test)\n",
    "\n",
    "clf.fit(X_train_scaled, y_train)\n",
    "y_pred=clf.predict(X_test_scaled)\n",
    "y_pred_prob=clf.predict_proba(X_test_scaled)[:,1]\n",
    "fpr0, tpr0, thresholds0 = roc_curve(y_test, y_pred_prob) "
   ]
  },
  {
   "cell_type": "markdown",
   "id": "cd243d88-1582-4e53-badb-df5ed5a1ae55",
   "metadata": {
    "tags": []
   },
   "source": [
    "## Random Forest Classifier"
   ]
  },
  {
   "cell_type": "code",
   "execution_count": 12,
   "id": "2ffd4e4f-b9d6-4358-bae9-5f58d23e7358",
   "metadata": {},
   "outputs": [],
   "source": [
    "cols=['age_group', 'fam_hist', 'physical_activity', 'daily_water', 'food_between_meals', 'veg', 'Gender', 'high_cal_foods']\n",
    "X=df[cols]\n",
    "X_train, X_test, y_train, y_test = train_test_split(X, y, test_size=0.5, random_state=16)\n",
    "scaler=MinMaxScaler().fit(X_train)\n",
    "X_train_scaled=scaler.transform(X_train)\n",
    "X_test_scaled=scaler.transform(X_test)"
   ]
  },
  {
   "cell_type": "code",
   "execution_count": 13,
   "id": "b8af638b-78ba-4d7f-896a-6e9ad7212622",
   "metadata": {},
   "outputs": [],
   "source": [
    "param_grid={'n_estimators':[10, 50, 100, 300, 500, 700, 1000],\n",
    "            'criterion':['gini', 'entropy'],\n",
    "            'max_features':['sqrt', 'log2'],\n",
    "            'max_depth':[None, 1, 3, 5, 7, 15, 30]}\n",
    "clf=RandomForestClassifier(random_state=16)\n",
    "random_forest_cv=GridSearchCV(clf, param_grid, cv=10, scoring='roc_auc', n_jobs=-1)"
   ]
  },
  {
   "cell_type": "code",
   "execution_count": 14,
   "id": "aeb595c7-6a53-462a-96f6-bdd5a384cb4b",
   "metadata": {},
   "outputs": [
    {
     "data": {
      "text/html": [
       "<style>#sk-container-id-1 {color: black;background-color: white;}#sk-container-id-1 pre{padding: 0;}#sk-container-id-1 div.sk-toggleable {background-color: white;}#sk-container-id-1 label.sk-toggleable__label {cursor: pointer;display: block;width: 100%;margin-bottom: 0;padding: 0.3em;box-sizing: border-box;text-align: center;}#sk-container-id-1 label.sk-toggleable__label-arrow:before {content: \"▸\";float: left;margin-right: 0.25em;color: #696969;}#sk-container-id-1 label.sk-toggleable__label-arrow:hover:before {color: black;}#sk-container-id-1 div.sk-estimator:hover label.sk-toggleable__label-arrow:before {color: black;}#sk-container-id-1 div.sk-toggleable__content {max-height: 0;max-width: 0;overflow: hidden;text-align: left;background-color: #f0f8ff;}#sk-container-id-1 div.sk-toggleable__content pre {margin: 0.2em;color: black;border-radius: 0.25em;background-color: #f0f8ff;}#sk-container-id-1 input.sk-toggleable__control:checked~div.sk-toggleable__content {max-height: 200px;max-width: 100%;overflow: auto;}#sk-container-id-1 input.sk-toggleable__control:checked~label.sk-toggleable__label-arrow:before {content: \"▾\";}#sk-container-id-1 div.sk-estimator input.sk-toggleable__control:checked~label.sk-toggleable__label {background-color: #d4ebff;}#sk-container-id-1 div.sk-label input.sk-toggleable__control:checked~label.sk-toggleable__label {background-color: #d4ebff;}#sk-container-id-1 input.sk-hidden--visually {border: 0;clip: rect(1px 1px 1px 1px);clip: rect(1px, 1px, 1px, 1px);height: 1px;margin: -1px;overflow: hidden;padding: 0;position: absolute;width: 1px;}#sk-container-id-1 div.sk-estimator {font-family: monospace;background-color: #f0f8ff;border: 1px dotted black;border-radius: 0.25em;box-sizing: border-box;margin-bottom: 0.5em;}#sk-container-id-1 div.sk-estimator:hover {background-color: #d4ebff;}#sk-container-id-1 div.sk-parallel-item::after {content: \"\";width: 100%;border-bottom: 1px solid gray;flex-grow: 1;}#sk-container-id-1 div.sk-label:hover label.sk-toggleable__label {background-color: #d4ebff;}#sk-container-id-1 div.sk-serial::before {content: \"\";position: absolute;border-left: 1px solid gray;box-sizing: border-box;top: 0;bottom: 0;left: 50%;z-index: 0;}#sk-container-id-1 div.sk-serial {display: flex;flex-direction: column;align-items: center;background-color: white;padding-right: 0.2em;padding-left: 0.2em;position: relative;}#sk-container-id-1 div.sk-item {position: relative;z-index: 1;}#sk-container-id-1 div.sk-parallel {display: flex;align-items: stretch;justify-content: center;background-color: white;position: relative;}#sk-container-id-1 div.sk-item::before, #sk-container-id-1 div.sk-parallel-item::before {content: \"\";position: absolute;border-left: 1px solid gray;box-sizing: border-box;top: 0;bottom: 0;left: 50%;z-index: -1;}#sk-container-id-1 div.sk-parallel-item {display: flex;flex-direction: column;z-index: 1;position: relative;background-color: white;}#sk-container-id-1 div.sk-parallel-item:first-child::after {align-self: flex-end;width: 50%;}#sk-container-id-1 div.sk-parallel-item:last-child::after {align-self: flex-start;width: 50%;}#sk-container-id-1 div.sk-parallel-item:only-child::after {width: 0;}#sk-container-id-1 div.sk-dashed-wrapped {border: 1px dashed gray;margin: 0 0.4em 0.5em 0.4em;box-sizing: border-box;padding-bottom: 0.4em;background-color: white;}#sk-container-id-1 div.sk-label label {font-family: monospace;font-weight: bold;display: inline-block;line-height: 1.2em;}#sk-container-id-1 div.sk-label-container {text-align: center;}#sk-container-id-1 div.sk-container {/* jupyter's `normalize.less` sets `[hidden] { display: none; }` but bootstrap.min.css set `[hidden] { display: none !important; }` so we also need the `!important` here to be able to override the default hidden behavior on the sphinx rendered scikit-learn.org. See: https://github.com/scikit-learn/scikit-learn/issues/21755 */display: inline-block !important;position: relative;}#sk-container-id-1 div.sk-text-repr-fallback {display: none;}</style><div id=\"sk-container-id-1\" class=\"sk-top-container\"><div class=\"sk-text-repr-fallback\"><pre>GridSearchCV(cv=10, estimator=RandomForestClassifier(random_state=16),\n",
       "             n_jobs=-1,\n",
       "             param_grid={&#x27;criterion&#x27;: [&#x27;gini&#x27;, &#x27;entropy&#x27;],\n",
       "                         &#x27;max_depth&#x27;: [None, 1, 3, 5, 7, 15, 30],\n",
       "                         &#x27;max_features&#x27;: [&#x27;sqrt&#x27;, &#x27;log2&#x27;],\n",
       "                         &#x27;n_estimators&#x27;: [10, 50, 100, 300, 500, 700, 1000]},\n",
       "             scoring=&#x27;roc_auc&#x27;)</pre><b>In a Jupyter environment, please rerun this cell to show the HTML representation or trust the notebook. <br />On GitHub, the HTML representation is unable to render, please try loading this page with nbviewer.org.</b></div><div class=\"sk-container\" hidden><div class=\"sk-item sk-dashed-wrapped\"><div class=\"sk-label-container\"><div class=\"sk-label sk-toggleable\"><input class=\"sk-toggleable__control sk-hidden--visually\" id=\"sk-estimator-id-1\" type=\"checkbox\" ><label for=\"sk-estimator-id-1\" class=\"sk-toggleable__label sk-toggleable__label-arrow\">GridSearchCV</label><div class=\"sk-toggleable__content\"><pre>GridSearchCV(cv=10, estimator=RandomForestClassifier(random_state=16),\n",
       "             n_jobs=-1,\n",
       "             param_grid={&#x27;criterion&#x27;: [&#x27;gini&#x27;, &#x27;entropy&#x27;],\n",
       "                         &#x27;max_depth&#x27;: [None, 1, 3, 5, 7, 15, 30],\n",
       "                         &#x27;max_features&#x27;: [&#x27;sqrt&#x27;, &#x27;log2&#x27;],\n",
       "                         &#x27;n_estimators&#x27;: [10, 50, 100, 300, 500, 700, 1000]},\n",
       "             scoring=&#x27;roc_auc&#x27;)</pre></div></div></div><div class=\"sk-parallel\"><div class=\"sk-parallel-item\"><div class=\"sk-item\"><div class=\"sk-label-container\"><div class=\"sk-label sk-toggleable\"><input class=\"sk-toggleable__control sk-hidden--visually\" id=\"sk-estimator-id-2\" type=\"checkbox\" ><label for=\"sk-estimator-id-2\" class=\"sk-toggleable__label sk-toggleable__label-arrow\">estimator: RandomForestClassifier</label><div class=\"sk-toggleable__content\"><pre>RandomForestClassifier(random_state=16)</pre></div></div></div><div class=\"sk-serial\"><div class=\"sk-item\"><div class=\"sk-estimator sk-toggleable\"><input class=\"sk-toggleable__control sk-hidden--visually\" id=\"sk-estimator-id-3\" type=\"checkbox\" ><label for=\"sk-estimator-id-3\" class=\"sk-toggleable__label sk-toggleable__label-arrow\">RandomForestClassifier</label><div class=\"sk-toggleable__content\"><pre>RandomForestClassifier(random_state=16)</pre></div></div></div></div></div></div></div></div></div></div>"
      ],
      "text/plain": [
       "GridSearchCV(cv=10, estimator=RandomForestClassifier(random_state=16),\n",
       "             n_jobs=-1,\n",
       "             param_grid={'criterion': ['gini', 'entropy'],\n",
       "                         'max_depth': [None, 1, 3, 5, 7, 15, 30],\n",
       "                         'max_features': ['sqrt', 'log2'],\n",
       "                         'n_estimators': [10, 50, 100, 300, 500, 700, 1000]},\n",
       "             scoring='roc_auc')"
      ]
     },
     "execution_count": 14,
     "metadata": {},
     "output_type": "execute_result"
    }
   ],
   "source": [
    "random_forest_cv.fit(X_train_scaled, y_train)"
   ]
  },
  {
   "cell_type": "code",
   "execution_count": 15,
   "id": "84b4d46a-7c85-445a-a78e-7f3e826c2046",
   "metadata": {},
   "outputs": [
    {
     "name": "stdout",
     "output_type": "stream",
     "text": [
      "Tuned Random Forest Classifier Parameter: {'criterion': 'entropy', 'max_depth': 3, 'max_features': 'log2', 'n_estimators': 50}\n",
      "Tuned Random Forest Classifier Score: 0.7564814814814815\n"
     ]
    }
   ],
   "source": [
    "print(\"Tuned Random Forest Classifier Parameter: {}\".format(random_forest_cv.best_params_))\n",
    "print(\"Tuned Random Forest Classifier Score: {}\".format(random_forest_cv.best_score_))"
   ]
  },
  {
   "cell_type": "code",
   "execution_count": 16,
   "id": "d7b9cbb7-48cb-44b3-a526-24e4d75bf078",
   "metadata": {},
   "outputs": [],
   "source": [
    "models.Best_params[1]=random_forest_cv.best_params_\n",
    "models.Optimal_features[1]=cols\n",
    "models.ROC_AUC[1]=random_forest_cv.best_score_"
   ]
  },
  {
   "cell_type": "markdown",
   "id": "6d235415-48d3-4334-86bf-5576bbe3877f",
   "metadata": {},
   "source": [
    "Random Forest Classifier seems like a better model to use than Logistic Regression."
   ]
  },
  {
   "cell_type": "code",
   "execution_count": 17,
   "id": "29daadcd-7435-44b1-ba64-1fd62af61dcc",
   "metadata": {},
   "outputs": [],
   "source": [
    "cols=['age_group', 'fam_hist', 'physical_activity', 'daily_water', 'food_between_meals', 'veg', 'Gender', 'high_cal_foods']\n",
    "X=df[cols]\n",
    "y=df[['obese']].values.ravel()\n",
    "\n",
    "clf=RandomForestClassifier(random_state=16, criterion='entropy', max_depth=3, max_features='log2', n_estimators=50)\n",
    "\n",
    "X_train, X_test, y_train, y_test = train_test_split(X, y, test_size=0.5, random_state=16)\n",
    "scaler=MinMaxScaler().fit(X_train)\n",
    "X_train_scaled=scaler.transform(X_train)\n",
    "X_test_scaled=scaler.transform(X_test)\n",
    "\n",
    "clf.fit(X_train_scaled, y_train)\n",
    "y_pred=clf.predict(X_test_scaled)\n",
    "y_pred_prob=clf.predict_proba(X_test_scaled)[:,1]\n",
    "\n",
    "fpr1, tpr1, thresholds1 = roc_curve(y_test, y_pred_prob) "
   ]
  },
  {
   "cell_type": "markdown",
   "id": "0fd4f091-a748-4eb1-918a-5cf7a8737e39",
   "metadata": {
    "tags": []
   },
   "source": [
    "## Extreme Gradient Boosting"
   ]
  },
  {
   "cell_type": "code",
   "execution_count": 18,
   "id": "07889061-b003-4467-9912-5e9a1541188b",
   "metadata": {},
   "outputs": [],
   "source": [
    "cols=['age_group', 'fam_hist', 'physical_activity', 'Gender', 'daily_water']\n",
    "X=df[cols]\n",
    "X_train, X_test, y_train, y_test = train_test_split(X, y, test_size=0.5, random_state=16)\n",
    "scaler=MinMaxScaler().fit(X_train)\n",
    "X_train_scaled=scaler.transform(X_train)\n",
    "X_test_scaled=scaler.transform(X_test)"
   ]
  },
  {
   "cell_type": "code",
   "execution_count": 19,
   "id": "1895b1ac-22c3-49c6-8c4e-b60843bfba5e",
   "metadata": {
    "tags": []
   },
   "outputs": [
    {
     "name": "stdout",
     "output_type": "stream",
     "text": [
      "Tuned XGB Classifier Parameter: {'colsample_bytree': 0.1, 'max_depth': 1, 'n_estimators': 50}\n",
      "Tuned XGB Classifier Score: 0.7511574074074073\n"
     ]
    }
   ],
   "source": [
    "param_grid={'n_estimators':[10, 50, 100, 300, 500],\n",
    "            'max_depth':[1, 3, 5, 15, 30, None],\n",
    "           'colsample_bytree':[0.1, 0.3, 0.5, 0.7, 1]}\n",
    "clf=XGBClassifier(random_state=16, use_label_encoder=False, eval_metric='logloss')\n",
    "xgb_cv=GridSearchCV(clf, param_grid, cv=10, scoring='roc_auc', n_jobs=-1)\n",
    "xgb_cv.fit(X_train_scaled, y_train)\n",
    "print(\"Tuned XGB Classifier Parameter: {}\".format(xgb_cv.best_params_))\n",
    "print(\"Tuned XGB Classifier Score: {}\".format(xgb_cv.best_score_))"
   ]
  },
  {
   "cell_type": "code",
   "execution_count": 20,
   "id": "9cd1b2af-0df1-47a4-a2c4-852f76728da6",
   "metadata": {},
   "outputs": [],
   "source": [
    "models.Best_params[2]=xgb_cv.best_params_\n",
    "models.Optimal_features[2]=cols\n",
    "models.ROC_AUC[2]=xgb_cv.best_score_"
   ]
  },
  {
   "cell_type": "markdown",
   "id": "3515df7f-6d21-421e-ac0a-341785f8464c",
   "metadata": {},
   "source": [
    "XGB Classifier seems to be a good model, but Random Forest Classifier results in a slightly better score."
   ]
  },
  {
   "cell_type": "code",
   "execution_count": 21,
   "id": "26ebed5b-babb-445d-b8fc-a0e742a40892",
   "metadata": {},
   "outputs": [],
   "source": [
    "cols=['age_group', 'fam_hist', 'physical_activity', 'Gender', 'daily_water']\n",
    "X=df[cols]\n",
    "y=df[['obese']].values.ravel()\n",
    "clf=XGBClassifier(colsample_bytree=1, max_depth=1, n_estimators=50, use_label_encoder=False, random_state=16)\n",
    "\n",
    "X_train, X_test, y_train, y_test = train_test_split(X, y, test_size=0.5, random_state=16)\n",
    "scaler=MinMaxScaler().fit(X_train)\n",
    "X_train_scaled=scaler.transform(X_train)\n",
    "X_test_scaled=scaler.transform(X_test)\n",
    "\n",
    "clf.fit(X_train_scaled, y_train)\n",
    "y_pred=clf.predict(X_test_scaled)\n",
    "y_pred_prob=clf.predict_proba(X_test_scaled)[:,1]\n",
    "\n",
    "fpr2, tpr2, thresholds2 = roc_curve(y_test, y_pred_prob) "
   ]
  },
  {
   "cell_type": "markdown",
   "id": "dc48bb7d-775c-4e16-9f96-cbfa33f311d3",
   "metadata": {
    "tags": []
   },
   "source": [
    "## Conclusions"
   ]
  },
  {
   "cell_type": "code",
   "execution_count": 22,
   "id": "2d86bc3d-b24b-4a59-928a-031f3d0df71b",
   "metadata": {},
   "outputs": [
    {
     "data": {
      "text/html": [
       "<div>\n",
       "<style scoped>\n",
       "    .dataframe tbody tr th:only-of-type {\n",
       "        vertical-align: middle;\n",
       "    }\n",
       "\n",
       "    .dataframe tbody tr th {\n",
       "        vertical-align: top;\n",
       "    }\n",
       "\n",
       "    .dataframe thead th {\n",
       "        text-align: right;\n",
       "    }\n",
       "</style>\n",
       "<table border=\"1\" class=\"dataframe\">\n",
       "  <thead>\n",
       "    <tr style=\"text-align: right;\">\n",
       "      <th></th>\n",
       "      <th>Best_params</th>\n",
       "      <th>Optimal_features</th>\n",
       "      <th>ROC_AUC</th>\n",
       "    </tr>\n",
       "  </thead>\n",
       "  <tbody>\n",
       "    <tr>\n",
       "      <th>Logistic Regression</th>\n",
       "      <td>{'C': 0.1}</td>\n",
       "      <td>[age_group, fam_hist, physical_activity, daily_water, veg, food_between_meals, alcohol, nicotine]</td>\n",
       "      <td>0.741944</td>\n",
       "    </tr>\n",
       "    <tr>\n",
       "      <th>Random Forest Classifier</th>\n",
       "      <td>{'criterion': 'entropy', 'max_depth': 3, 'max_features': 'log2', 'n_estimators': 50}</td>\n",
       "      <td>[age_group, fam_hist, physical_activity, daily_water, food_between_meals, veg, Gender, high_cal_foods]</td>\n",
       "      <td>0.756481</td>\n",
       "    </tr>\n",
       "    <tr>\n",
       "      <th>XGB Classifier</th>\n",
       "      <td>{'colsample_bytree': 0.1, 'max_depth': 1, 'n_estimators': 50}</td>\n",
       "      <td>[age_group, fam_hist, physical_activity, Gender, daily_water]</td>\n",
       "      <td>0.751157</td>\n",
       "    </tr>\n",
       "  </tbody>\n",
       "</table>\n",
       "</div>"
      ],
      "text/plain": [
       "                                                                                                   Best_params  \\\n",
       "Logistic Regression                                                                                 {'C': 0.1}   \n",
       "Random Forest Classifier  {'criterion': 'entropy', 'max_depth': 3, 'max_features': 'log2', 'n_estimators': 50}   \n",
       "XGB Classifier                                   {'colsample_bytree': 0.1, 'max_depth': 1, 'n_estimators': 50}   \n",
       "\n",
       "                                                                                                                Optimal_features  \\\n",
       "Logistic Regression            [age_group, fam_hist, physical_activity, daily_water, veg, food_between_meals, alcohol, nicotine]   \n",
       "Random Forest Classifier  [age_group, fam_hist, physical_activity, daily_water, food_between_meals, veg, Gender, high_cal_foods]   \n",
       "XGB Classifier                                                     [age_group, fam_hist, physical_activity, Gender, daily_water]   \n",
       "\n",
       "                           ROC_AUC  \n",
       "Logistic Regression       0.741944  \n",
       "Random Forest Classifier  0.756481  \n",
       "XGB Classifier            0.751157  "
      ]
     },
     "execution_count": 22,
     "metadata": {},
     "output_type": "execute_result"
    }
   ],
   "source": [
    "pd.set_option('display.max_colwidth', None)\n",
    "models"
   ]
  },
  {
   "cell_type": "markdown",
   "id": "ef67ef8c-75d0-42fb-a3cc-aa94b3c9ab79",
   "metadata": {},
   "source": [
    "The Random Forest Classifier has the highest ROC_AUC score, but they are all close in proximity."
   ]
  },
  {
   "cell_type": "code",
   "execution_count": 23,
   "id": "aead3344-a52c-45e0-b044-1c832e47bef5",
   "metadata": {},
   "outputs": [
    {
     "data": {
      "image/png": "[encoded data removed]",
      "text/plain": [
       "<Figure size 432x288 with 1 Axes>"
      ]
     },
     "metadata": {
      "needs_background": "light"
     },
     "output_type": "display_data"
    }
   ],
   "source": [
    "plt.plot([0,1],[0,1],'k--')\n",
    "plt.plot(fpr0, tpr0, label='Logistic Regression') \n",
    "plt.plot(fpr1, tpr1, label='Random Forest Classifier') \n",
    "plt.plot(fpr2, tpr2, label='XGB Classifier') \n",
    "plt.grid()\n",
    "plt.xlabel('False Positive Rate') \n",
    "plt.ylabel('True Positive Rate')\n",
    "plt.legend()\n",
    "plt.title('ROC Curve') \n",
    "plt.show()"
   ]
  },
  {
   "cell_type": "markdown",
   "id": "2b26f2bc-d9aa-47df-8e58-eacbf7230c7b",
   "metadata": {},
   "source": [
    "The ROC curve reflects the closeness in ROC_AUC scores of the three models. However, although the random forest has the highest score, it only performs better around a false positive rate of 0.2, corresponding to a threshold of 0.8. Logistic Regression outperforms all levels at lower thresholds of less than 0.55 and more than 0.1."
   ]
  },
  {
   "cell_type": "markdown",
   "id": "581432e3-61b2-4d73-95cc-42920d124c20",
   "metadata": {
    "tags": []
   },
   "source": [
    "# Thresholding"
   ]
  },
  {
   "cell_type": "markdown",
   "id": "5dde62e9-cedc-453b-9f7b-a1a78c8db3e4",
   "metadata": {
    "tags": []
   },
   "source": [
    "## Random Forest Classifier"
   ]
  },
  {
   "cell_type": "code",
   "execution_count": 37,
   "id": "370c0892-553a-4530-87a7-363ab2ca7da0",
   "metadata": {},
   "outputs": [],
   "source": [
    "cols=['age_group', 'fam_hist', 'physical_activity', 'daily_water', 'food_between_meals', 'veg', 'Gender', 'high_cal_foods']\n",
    "X=df[cols]\n",
    "y=df[['obese']].values.ravel()"
   ]
  },
  {
   "cell_type": "code",
   "execution_count": 38,
   "id": "b39746c8-5b52-40dc-99de-fdbdaba1af7a",
   "metadata": {},
   "outputs": [],
   "source": [
    "clf=RandomForestClassifier(random_state=16, criterion='entropy', max_depth=3, max_features='log2', n_estimators=50)\n",
    "\n",
    "X_train, X_test, y_train, y_test = train_test_split(X, y, test_size=0.5, random_state=16)\n",
    "scaler=MinMaxScaler().fit(X_train)\n",
    "X_train_scaled=scaler.transform(X_train)\n",
    "X_test_scaled=scaler.transform(X_test)\n",
    "\n",
    "clf.fit(X_train_scaled, y_train)\n",
    "y_pred=clf.predict(X_test_scaled)\n",
    "y_pred_prob=clf.predict_proba(X_test_scaled)[:,1]"
   ]
  },
  {
   "cell_type": "code",
   "execution_count": 41,
   "id": "3a2220a9",
   "metadata": {
    "scrolled": true
   },
   "outputs": [
    {
     "data": {
      "image/png": "[encoded data removed]",
      "text/plain": [
       "<Figure size 576x360 with 2 Axes>"
      ]
     },
     "metadata": {
      "needs_background": "light"
     },
     "output_type": "display_data"
    }
   ],
   "source": [
    "import shap\n",
    "explainer=shap.TreeExplainer(clf)\n",
    "shap_values=explainer.shap_values(X_test_scaled)\n",
    "plt.figure(figsize=(8,5))\n",
    "shap.summary_plot(shap_values[1], X_test_scaled, feature_names=X_test.columns, plot_type='bar', color='lightblue', plot_size=None, show=False)\n",
    "shap.summary_plot(shap_values[1], X_test_scaled, feature_names=X_test.columns, plot_size=None, show=False, alpha=0.5)\n",
    "plt.show()"
   ]
  },
  {
   "cell_type": "code",
   "execution_count": 40,
   "id": "443b1139-07db-4e07-924d-b91011f1a070",
   "metadata": {},
   "outputs": [
    {
     "data": {
      "image/png": "[encoded data removed]",
      "text/plain": [
       "<Figure size 432x288 with 1 Axes>"
      ]
     },
     "metadata": {
      "needs_background": "light"
     },
     "output_type": "display_data"
    }
   ],
   "source": [
    "precision, recall, threshold = precision_recall_curve(y_test, y_pred_prob) # pos_labelstr - picks normal weight class\n",
    "fig, ax=plt.subplots()\n",
    "ax.plot(recall, precision)\n",
    "ax.set_xlabel('Recall')\n",
    "ax.set_ylabel('Precision')\n",
    "ax.set_title('Precision-Recall Curve for Random Forest Classifier')\n",
    "ax.set_ylim(0.0, 1.1)\n",
    "plt.show()"
   ]
  },
  {
   "cell_type": "code",
   "execution_count": 27,
   "id": "ea404566-5c15-48bd-8f4b-d3723fe9dd74",
   "metadata": {
    "tags": []
   },
   "outputs": [
    {
     "data": {
      "image/png": "[encoded data removed]",
      "text/plain": [
       "<Figure size 432x288 with 1 Axes>"
      ]
     },
     "metadata": {
      "needs_background": "light"
     },
     "output_type": "display_data"
    }
   ],
   "source": [
    "fig, ax=plt.subplots()\n",
    "ax.plot(threshold, precision[1:], label='Precision')\n",
    "ax.plot(threshold, recall[1:], label='Recall')\n",
    "\n",
    "\n",
    "ax.set_xlabel('Threshold')\n",
    "ax.set_ylabel('Precision/Recall')\n",
    "ax.set_title('Precision/Recall vs. Threshold for Random Forest Classifier')\n",
    "\n",
    "fscore=2*(precision*recall)/(precision+recall)\n",
    "f_ix=np.argmax(fscore)\n",
    "\n",
    "f2=fbeta_score(y_test, y_pred, beta=2)\n",
    "\n",
    "f2score=(5*precision*recall)/((4*precision)+recall)\n",
    "\n",
    "f2_ix=np.argmax(f2score)\n",
    "\n",
    "ax.plot(threshold, fscore[1:], label='F-score')\n",
    "ax.plot(threshold, f2score[1:], label='F2-score')\n",
    "\n",
    "ax.axvline(threshold[f_ix], linestyle='dashed', color='green')\n",
    "plt.text(threshold[f_ix]*1.02, 0.22, 'Threshold: '+str(np.round(threshold[f_ix], 3)), fontsize='small', backgroundcolor='honeydew')\n",
    "plt.text(threshold[f_ix]*1.02, 0.12,  'Max F-score: '+str(np.round(fscore[f_ix], 3)), fontsize='small', backgroundcolor='honeydew')\n",
    "\n",
    "ax.axvline(threshold[f2_ix], linestyle='dashed', color='red')\n",
    "plt.text(threshold[f2_ix]*1.04, 0.275, 'Threshold: '+str(np.round(threshold[f2_ix], 3)), fontsize='small', backgroundcolor='mistyrose')\n",
    "plt.text(threshold[f2_ix]*1.04, 0.175, 'Max F2-score: '+str(np.round(f2score[f2_ix], 3)), fontsize='small', backgroundcolor='mistyrose')\n",
    "\n",
    "ax.axvline(0.42, linestyle='dashed', color='black')\n",
    "plt.text(0.42*1.025, 0.872, 'Precision: 0.50, Recall: 0.55', fontsize='small', backgroundcolor='floralwhite')\n",
    "plt.text(0.42*1.025, 0.775, 'Threshold: 0.42', fontsize='small', backgroundcolor='floralwhite')\n",
    "\n",
    "\n",
    "ax.legend()\n",
    "plt.show()\n",
    "\n"
   ]
  },
  {
   "cell_type": "markdown",
   "id": "e168255e-ca72-41c8-b676-34d4a13ad107",
   "metadata": {},
   "source": [
    "The threshold that best balances precision and recall is one that gives the maximum F-score, where $F=2\\cdot\\frac{precision \\cdot recall}{precision+recall}=\\frac{2\\cdot TP}{2\\cdot TP + FP + FN}$.\n"
   ]
  },
  {
   "cell_type": "markdown",
   "id": "ae73b22d-6444-47a7-96d0-e2e0ca2d197f",
   "metadata": {},
   "source": [
    "We generate a confusion matrix and a classification report for the threshold of 0.459 at the maximum F-score of 0.57:"
   ]
  },
  {
   "cell_type": "code",
   "execution_count": 28,
   "id": "001174db-248b-49c3-bc38-3bc3d80a9b51",
   "metadata": {},
   "outputs": [
    {
     "data": {
      "image/png": "[encoded data removed]",
      "text/plain": [
       "<Figure size 432x288 with 2 Axes>"
      ]
     },
     "metadata": {
      "needs_background": "light"
     },
     "output_type": "display_data"
    },
    {
     "name": "stdout",
     "output_type": "stream",
     "text": [
      "              precision    recall  f1-score   support\n",
      "\n",
      "         0.0       0.78      0.82      0.80       160\n",
      "         1.0       0.60      0.53      0.56        80\n",
      "\n",
      "    accuracy                           0.73       240\n",
      "   macro avg       0.69      0.68      0.68       240\n",
      "weighted avg       0.72      0.72      0.72       240\n",
      "\n"
     ]
    }
   ],
   "source": [
    "fthreshold = 0.459\n",
    "\n",
    "y_pred = (y_pred_prob >= fthreshold).astype('int')\n",
    "\n",
    "cm=confusion_matrix(y_test, y_pred)\n",
    "disp=ConfusionMatrixDisplay(cm)\n",
    "disp.plot()\n",
    "plt.grid(False)\n",
    "plt.title('Confusion Matrix for threshold=0.459, F-score=0.57')\n",
    "plt.show()\n",
    "print(classification_report(y_test, y_pred))"
   ]
  },
  {
   "cell_type": "markdown",
   "id": "543e355c-33ac-4cc0-aa47-f2a994dd9364",
   "metadata": {},
   "source": [
    "$Precision=\\frac{TP}{TP+FP}$, $Recall=\\frac{TP}{TP+FN}$ "
   ]
  },
  {
   "cell_type": "markdown",
   "id": "22116b44-6654-42c0-8b14-01604a0b14a0",
   "metadata": {},
   "source": [
    "Here, precision is 42/(42+28) and recall is 42/(42+38). Recall is lower than precision. The model predicts the negative class of normal weight more accurately because of the imbalance in the dataset. "
   ]
  },
  {
   "cell_type": "markdown",
   "id": "ef355904-7962-44e6-b01f-7a64591e8eed",
   "metadata": {},
   "source": [
    "We want to minimize false negatives (false predictions that someone is under/normal weight when they are actually overweight/obese), because promoting healthy behaviour towards overweight patients is more important than doing so towards people who are normal weight. We can look at the F2-score, where $F_2=\\frac{(1+\\beta^2)\\cdot Precision\\cdot Recall}{(\\beta^2 \\cdot Precision+Recall)}$, $\\beta = 2$. This puts more importance on recall and less on precision.\n"
   ]
  },
  {
   "cell_type": "code",
   "execution_count": 29,
   "id": "831ee929-9403-49fa-96e3-636a2d8d79dd",
   "metadata": {},
   "outputs": [
    {
     "data": {
      "image/png": "[encoded data removed]",
      "text/plain": [
       "<Figure size 432x288 with 2 Axes>"
      ]
     },
     "metadata": {
      "needs_background": "light"
     },
     "output_type": "display_data"
    },
    {
     "name": "stdout",
     "output_type": "stream",
     "text": [
      "              precision    recall  f1-score   support\n",
      "\n",
      "         0.0       0.93      0.09      0.16       160\n",
      "         1.0       0.35      0.99      0.52        80\n",
      "\n",
      "    accuracy                           0.39       240\n",
      "   macro avg       0.64      0.54      0.34       240\n",
      "weighted avg       0.74      0.39      0.28       240\n",
      "\n"
     ]
    }
   ],
   "source": [
    "f2threshold=0.202\n",
    "\n",
    "y_pred = (y_pred_prob >= f2threshold).astype('int')\n",
    "\n",
    "cm=confusion_matrix(y_test, y_pred)\n",
    "disp=ConfusionMatrixDisplay(cm)\n",
    "disp.plot()\n",
    "plt.grid(False)\n",
    "plt.title('Confusion Matrix for threshold=0.459, F-score=0.57')\n",
    "plt.show()\n",
    "print(classification_report(y_test, y_pred))"
   ]
  },
  {
   "cell_type": "markdown",
   "id": "cba9dbdf-b0c1-4928-b15d-2ce37886e9d8",
   "metadata": {},
   "source": [
    "For the F2-threshold, the recall is 0.99, but the precision is 0.35 - a value that is too low for the model to be accurate."
   ]
  },
  {
   "cell_type": "code",
   "execution_count": 30,
   "id": "825efa14-6394-4369-9ed2-57da3dbac1cc",
   "metadata": {},
   "outputs": [
    {
     "data": {
      "image/png": "[encoded data removed]",
      "text/plain": [
       "<Figure size 432x288 with 2 Axes>"
      ]
     },
     "metadata": {
      "needs_background": "light"
     },
     "output_type": "display_data"
    },
    {
     "name": "stdout",
     "output_type": "stream",
     "text": [
      "              precision    recall  f1-score   support\n",
      "\n",
      "         0.0       0.76      0.72      0.74       160\n",
      "         1.0       0.50      0.55      0.52        80\n",
      "\n",
      "    accuracy                           0.67       240\n",
      "   macro avg       0.63      0.64      0.63       240\n",
      "weighted avg       0.68      0.67      0.67       240\n",
      "\n"
     ]
    }
   ],
   "source": [
    "fthreshold = 0.42\n",
    "\n",
    "y_pred = (y_pred_prob >= fthreshold).astype('int')\n",
    "\n",
    "cm=confusion_matrix(y_test, y_pred)\n",
    "disp=ConfusionMatrixDisplay(cm)\n",
    "disp.plot()\n",
    "plt.grid(False)\n",
    "plt.title('Confusion Matrix for threshold=0.459, F-score=0.57')\n",
    "plt.show()\n",
    "print(classification_report(y_test, y_pred))"
   ]
  },
  {
   "cell_type": "markdown",
   "id": "8c9ef064-d243-4b0d-af78-5ca1e23d3b96",
   "metadata": {},
   "source": [
    "At 50% precision, recall is only 55%. Picking a threshold below this point (0.42) will result in a lower precision, which makes this model unuseful."
   ]
  },
  {
   "cell_type": "markdown",
   "id": "220b71c7-6a5f-490b-9e7a-b4506a9f631c",
   "metadata": {
    "tags": []
   },
   "source": [
    "## Logistic Regression"
   ]
  },
  {
   "cell_type": "markdown",
   "id": "6f22dab2-e203-4eb9-8712-feb3d931e3e8",
   "metadata": {},
   "source": [
    "The ROC curve above shows Logistic Regression performs better at lower thresholds. Because we are more interested in "
   ]
  },
  {
   "cell_type": "code",
   "execution_count": 31,
   "id": "dfa4abca-11f0-472b-9b2d-9dce9b32b0bd",
   "metadata": {},
   "outputs": [],
   "source": [
    "logreg_cols=cols=['age_group','fam_hist','physical_activity','daily_water','veg','food_between_meals','alcohol','nicotine']\n",
    "X=df[logreg_cols]\n",
    "y=df[['obese']].values.ravel()"
   ]
  },
  {
   "cell_type": "code",
   "execution_count": 32,
   "id": "530d3034-5974-4aa8-9932-02f807125596",
   "metadata": {},
   "outputs": [
    {
     "data": {
      "image/png": "[encoded data removed]",
      "text/plain": [
       "<Figure size 432x288 with 2 Axes>"
      ]
     },
     "metadata": {
      "needs_background": "light"
     },
     "output_type": "display_data"
    },
    {
     "name": "stdout",
     "output_type": "stream",
     "text": [
      "              precision    recall  f1-score   support\n",
      "\n",
      "         0.0       0.72      0.79      0.75       160\n",
      "         1.0       0.48      0.40      0.44        80\n",
      "\n",
      "    accuracy                           0.66       240\n",
      "   macro avg       0.60      0.59      0.60       240\n",
      "weighted avg       0.64      0.66      0.65       240\n",
      "\n"
     ]
    }
   ],
   "source": [
    "clf=LogisticRegression(C=100, random_state=16)\n",
    "\n",
    "X_train, X_test, y_train, y_test = train_test_split(X, y, test_size=0.5, random_state=16)\n",
    "scaler=MinMaxScaler().fit(X_train)\n",
    "X_train_scaled=scaler.transform(X_train)\n",
    "X_test_scaled=scaler.transform(X_test)\n",
    "\n",
    "clf.fit(X_train_scaled, y_train)\n",
    "y_pred=clf.predict(X_test_scaled)\n",
    "y_pred_prob=clf.predict_proba(X_test_scaled)[:,1]\n",
    "cm=confusion_matrix(y_test, y_pred)\n",
    "disp=ConfusionMatrixDisplay(cm)\n",
    "disp.plot()\n",
    "plt.grid(False)\n",
    "plt.show()\n",
    "print(classification_report(y_test, y_pred))"
   ]
  },
  {
   "cell_type": "code",
   "execution_count": 33,
   "id": "ce7a8bd2-5727-4f65-be73-7429c3ddd8f5",
   "metadata": {},
   "outputs": [
    {
     "data": {
      "image/png": "[encoded data removed]",
      "text/plain": [
       "<Figure size 432x288 with 1 Axes>"
      ]
     },
     "metadata": {
      "needs_background": "light"
     },
     "output_type": "display_data"
    }
   ],
   "source": [
    "precision, recall, threshold = precision_recall_curve(y_test, y_pred_prob) # pos_labelstr - picks normal weight class\n",
    "fig, ax=plt.subplots()\n",
    "ax.plot(recall, precision)\n",
    "ax.set_xlabel('Recall')\n",
    "ax.set_ylabel('Precision')\n",
    "ax.set_title('Precision-Recall Curve')\n",
    "ax.set_ylim(0.0, 1.1)\n",
    "plt.show()"
   ]
  },
  {
   "cell_type": "code",
   "execution_count": 34,
   "id": "33f91a59-db09-406d-b8fb-f86f4624e5aa",
   "metadata": {},
   "outputs": [
    {
     "data": {
      "image/png": "[encoded data removed]",
      "text/plain": [
       "<Figure size 432x288 with 1 Axes>"
      ]
     },
     "metadata": {
      "needs_background": "light"
     },
     "output_type": "display_data"
    }
   ],
   "source": [
    "fig, ax=plt.subplots()\n",
    "ax.plot(threshold, precision[1:], label='Precision')\n",
    "ax.plot(threshold, recall[1:], label='Recall')\n",
    "\n",
    "\n",
    "ax.set_xlabel('Threshold')\n",
    "ax.set_ylabel('Precision/Recall')\n",
    "ax.set_title('Precision/Recall vs. Threshold')\n",
    "\n",
    "fscore=2*(precision*recall)/(precision+recall)\n",
    "f_ix=np.argmax(fscore)\n",
    "\n",
    "f2=fbeta_score(y_test, y_pred, beta=2)\n",
    "\n",
    "f2score=(5*precision*recall)/((4*precision)+recall)\n",
    "\n",
    "f2_ix=np.argmax(f2score)\n",
    "\n",
    "ax.plot(threshold, fscore[1:], label='F-score')\n",
    "ax.plot(threshold, f2score[1:], label='F2-score')\n",
    "\n",
    "ax.axvline(0.4, linestyle='dashed', color='black')\n",
    "plt.text(0.4*1.035, 0.872, 'Precision: 0.50, Recall: 0.64', fontsize='small', backgroundcolor='floralwhite')\n",
    "plt.text(0.4*1.035, 0.775, 'Threshold: 0.4', fontsize='small', backgroundcolor='floralwhite')\n",
    "\n",
    "ax.legend()\n",
    "plt.show()\n",
    "\n"
   ]
  },
  {
   "cell_type": "code",
   "execution_count": 35,
   "id": "38721fb7-ad31-42e5-a1b7-fb73d9c4962e",
   "metadata": {},
   "outputs": [
    {
     "data": {
      "image/png": "[encoded data removed]",
      "text/plain": [
       "<Figure size 432x288 with 2 Axes>"
      ]
     },
     "metadata": {
      "needs_background": "light"
     },
     "output_type": "display_data"
    },
    {
     "name": "stdout",
     "output_type": "stream",
     "text": [
      "              precision    recall  f1-score   support\n",
      "\n",
      "         0.0       0.79      0.68      0.73       160\n",
      "         1.0       0.50      0.64      0.56        80\n",
      "\n",
      "    accuracy                           0.66       240\n",
      "   macro avg       0.64      0.66      0.64       240\n",
      "weighted avg       0.69      0.66      0.67       240\n",
      "\n"
     ]
    }
   ],
   "source": [
    "fthreshold = 0.4\n",
    "\n",
    "y_pred = (y_pred_prob >= fthreshold).astype('int')\n",
    "\n",
    "cm=confusion_matrix(y_test, y_pred)\n",
    "disp=ConfusionMatrixDisplay(cm)\n",
    "disp.plot()\n",
    "plt.grid(False)\n",
    "plt.title('Confusion Matrix for threshold=0.371, F-score=0.824')\n",
    "plt.show()\n",
    "print(classification_report(y_test, y_pred))"
   ]
  },
  {
   "cell_type": "markdown",
   "id": "a7be8471-7ace-46c1-bfd2-2fb0113752ab",
   "metadata": {},
   "source": [
    "Logistic Regression seems to perform better than the Random Forest Classifier as expected at a lower threshold. However, 50% precision and 64% recall is still not enough to deem this model useful."
   ]
  }
 ],
 "metadata": {
  "kernelspec": {
   "display_name": "Python 3 (ipykernel)",
   "language": "python",
   "name": "python3"
  },
  "language_info": {
   "codemirror_mode": {
    "name": "ipython",
    "version": 3
   },
   "file_extension": ".py",
   "mimetype": "text/x-python",
   "name": "python",
   "nbconvert_exporter": "python",
   "pygments_lexer": "ipython3",
   "version": "3.9.13"
  },
  "toc": {
   "base_numbering": 1,
   "nav_menu": {},
   "number_sections": true,
   "sideBar": true,
   "skip_h1_title": false,
   "title_cell": "Table of Contents",
   "title_sidebar": "Contents",
   "toc_cell": false,
   "toc_position": {},
   "toc_section_display": true,
   "toc_window_display": false
  },
  "toc-autonumbering": true,
  "toc-showcode": false,
  "toc-showmarkdowntxt": false,
  "toc-showtags": false
 },
 "nbformat": 4,
 "nbformat_minor": 5
}
